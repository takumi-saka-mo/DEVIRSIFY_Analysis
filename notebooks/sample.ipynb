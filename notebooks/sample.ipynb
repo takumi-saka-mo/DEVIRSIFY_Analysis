{
 "cells": [
  {
   "cell_type": "code",
   "execution_count": 9,
   "metadata": {},
   "outputs": [],
   "source": [
    "# srcディレクトリから calculate_EXVAL.py をimport\n",
    "import sys, os\n",
    "sys.path.append(os.path.abspath(\"../src\"))\n"
   ]
  },
  {
   "cell_type": "code",
   "execution_count": 10,
   "metadata": {},
   "outputs": [],
   "source": [
    "from calculate_EXVAL import DiversifyApproach\n"
   ]
  },
  {
   "cell_type": "code",
   "execution_count": null,
   "metadata": {},
   "outputs": [],
   "source": [
    "# 対象企業\n",
    "ticker = \"AAPL\"\n",
    "\n",
    "# 同業他社リスト\n",
    "specialized_tickers = [\"MSFT\", \"GOOGL\", \"AMZN\"]\n",
    "\n",
    "# セグメント売上\n",
    "seg_list = [100000000, 200000000]  # Appleの例として売上高を設定\n",
    "\n",
    "# その他データ（必要に応じて使用）\n",
    "data = {}\n",
    "\n",
    "# インスタンスの作成\n",
    "div_approach = DiversifyApproach(ticker=ticker, specialized_tickers=specialized_tickers, data=data)\n",
    "\n",
    "# 企業価値の計算\n",
    "value = div_approach.calculate_value()\n",
    "print(f\"企業価値: {value}\")\n",
    "\n",
    "# 超過価値 (EXVAL) の計算\n",
    "exval = div_approach.calculate_exval(seg_list)\n",
    "print(f\"超過価値 (EXVAL): {exval}\")"
   ]
  },
  {
   "cell_type": "code",
   "execution_count": 7,
   "metadata": {},
   "outputs": [
    {
     "data": {
      "text/html": [
       "<div>\n",
       "<style scoped>\n",
       "    .dataframe tbody tr th:only-of-type {\n",
       "        vertical-align: middle;\n",
       "    }\n",
       "\n",
       "    .dataframe tbody tr th {\n",
       "        vertical-align: top;\n",
       "    }\n",
       "\n",
       "    .dataframe thead th {\n",
       "        text-align: right;\n",
       "    }\n",
       "</style>\n",
       "<table border=\"1\" class=\"dataframe\">\n",
       "  <thead>\n",
       "    <tr style=\"text-align: right;\">\n",
       "      <th></th>\n",
       "      <th>Services</th>\n",
       "      <th>Devices</th>\n",
       "    </tr>\n",
       "    <tr>\n",
       "      <th>Category</th>\n",
       "      <th></th>\n",
       "      <th></th>\n",
       "    </tr>\n",
       "  </thead>\n",
       "  <tbody>\n",
       "    <tr>\n",
       "      <th>Sales</th>\n",
       "      <td>96169</td>\n",
       "      <td>294866</td>\n",
       "    </tr>\n",
       "  </tbody>\n",
       "</table>\n",
       "</div>"
      ],
      "text/plain": [
       "          Services  Devices\n",
       "Category                   \n",
       "Sales        96169   294866"
      ]
     },
     "execution_count": 7,
     "metadata": {},
     "output_type": "execute_result"
    }
   ],
   "source": [
    "# Appleの超過価値を算出\n",
    "import pandas as pd\n",
    "\n",
    "\n",
    "file = \"../data/AAPL_category.csv\"\n",
    "data = pd.read_csv(file, encoding = \"UTF-8\").set_index(\"Category\")\n",
    "\n",
    "\n",
    "data[\"Devices\"] = data[\"iPhone\"] + data[\"Mac\"] + data[\"iPad\"] + data[\"Wearables, Home and Accessories\"]\n",
    "data = data.drop(columns = [\"iPhone\", \"Mac\",\"iPad\",\"Wearables, Home and Accessories\"])\n",
    "data\n"
   ]
  },
  {
   "cell_type": "code",
   "execution_count": 11,
   "metadata": {},
   "outputs": [
    {
     "name": "stdout",
     "output_type": "stream",
     "text": [
      "企業価値: 3778407918400.0\n",
      "超過価値 (EXVAL): 1.4134789291259404\n"
     ]
    }
   ],
   "source": [
    "# セグメント値の設定\n",
    "seg1_value = data[\"Services\"].iloc[0] * 1e6 # 単位百万円\n",
    "seg2_value = data[\"Devices\"].iloc[0] * 1e6\n",
    "seg_list = [seg1_value, seg2_value]\n",
    "\n",
    "# 専門企業リスト\n",
    "services_companies = [\"NFLX\", \"DBX\", \"SPOT\"]\n",
    "devices_companies = [\"HPQ\", \"DELL\", \"LNVGY\"]\n",
    "specialized_tickers = [services_companies, devices_companies]\n",
    "\n",
    "# クラスインスタンス作成\n",
    "div_approach = DiversifyApproach(\n",
    "    ticker = \"AAPL\", # AAPL\n",
    "    specialized_tickers = specialized_tickers,\n",
    "    data = data\n",
    ")\n",
    "\n",
    "# 企業価値の計算\n",
    "value = div_approach.calculate_value()\n",
    "print(f\"企業価値: {value}\")\n",
    "\n",
    "# EXVAL（超過価値）の計算\n",
    "exval = div_approach.calculate_exval(seg_list)\n",
    "print(f\"超過価値 (EXVAL): {exval}\")"
   ]
  }
 ],
 "metadata": {
  "kernelspec": {
   "display_name": "3.12.1",
   "language": "python",
   "name": "python3"
  },
  "language_info": {
   "codemirror_mode": {
    "name": "ipython",
    "version": 3
   },
   "file_extension": ".py",
   "mimetype": "text/x-python",
   "name": "python",
   "nbconvert_exporter": "python",
   "pygments_lexer": "ipython3",
   "version": "3.12.1"
  }
 },
 "nbformat": 4,
 "nbformat_minor": 2
}
