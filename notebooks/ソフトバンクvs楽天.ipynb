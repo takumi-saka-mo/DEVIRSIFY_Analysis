{
 "cells": [
  {
   "cell_type": "markdown",
   "metadata": {},
   "source": [
    "[![Open In Colab](https://colab.research.google.com/assets/colab-badge.svg)](https://colab.research.google.com/github/takumi-saka-mo/DEVIRSIFY_Analysis/blob/main/notebooks/ソフトバンクvs楽天.ipynb)\n",
    "\n",
    "# ソフトバンク株式会社 vs 楽天グループ株式会社\n",
    "\n",
    "ソフトバンク株式会社...移動通信サービスの提供、携帯端末の販売、固定通信サービスの提供、インターネット接続サービスの提供<br>\n",
    "楽天グループ株式会社...ECサイト, インベストメント, フィンテック<br>\n",
    "\n",
    "\n",
    "\n",
    "### 参照\n",
    "https://www.softbank.jp/corp/set/data/ir/documents/financial_reports/fy2023/pdf/sbkk_financial_report_20240509.pdf"
   ]
  },
  {
   "cell_type": "code",
   "execution_count": null,
   "metadata": {},
   "outputs": [],
   "source": [
    "# calculate_EXVAL ディレクトリに格納されているクラスをインストール\n",
    "! pip install git+https://github.com/takumi-saka-mo/DEVIRSIFY_Analysis.git\n",
    "from calculate_EXVAL import DiversifyApproach\n",
    "import pandas as pd\n",
    "import matplotlib.pyplot as plt\n",
    "import seaborn as sns"
   ]
  },
  {
   "cell_type": "markdown",
   "metadata": {},
   "source": [
    "## ソフトバンク株式会社\n",
    "\n",
    "**財務データ参照先**<br>\n",
    "https://www.softbank.jp/corp/set/data/ir/documents/financial_reports/fy2023/pdf/sbkk_financial_report_20240509.pdf\n"
   ]
  },
  {
   "cell_type": "code",
   "execution_count": 2,
   "metadata": {},
   "outputs": [
    {
     "data": {
      "text/html": [
       "<div>\n",
       "<style scoped>\n",
       "    .dataframe tbody tr th:only-of-type {\n",
       "        vertical-align: middle;\n",
       "    }\n",
       "\n",
       "    .dataframe tbody tr th {\n",
       "        vertical-align: top;\n",
       "    }\n",
       "\n",
       "    .dataframe thead th {\n",
       "        text-align: right;\n",
       "    }\n",
       "</style>\n",
       "<table border=\"1\" class=\"dataframe\">\n",
       "  <thead>\n",
       "    <tr style=\"text-align: right;\">\n",
       "      <th></th>\n",
       "      <th>Consumer</th>\n",
       "      <th>Enterprise</th>\n",
       "      <th>Distribution</th>\n",
       "      <th>Media</th>\n",
       "      <th>Finance</th>\n",
       "    </tr>\n",
       "    <tr>\n",
       "      <th>Category</th>\n",
       "      <th></th>\n",
       "      <th></th>\n",
       "      <th></th>\n",
       "      <th></th>\n",
       "      <th></th>\n",
       "    </tr>\n",
       "  </thead>\n",
       "  <tbody>\n",
       "    <tr>\n",
       "      <th>Sales</th>\n",
       "      <td>4955</td>\n",
       "      <td>1672</td>\n",
       "      <td>262</td>\n",
       "      <td>1980</td>\n",
       "      <td>-58</td>\n",
       "    </tr>\n",
       "  </tbody>\n",
       "</table>\n",
       "</div>"
      ],
      "text/plain": [
       "          Consumer  Enterprise  Distribution  Media  Finance\n",
       "Category                                                    \n",
       "Sales         4955        1672           262   1980      -58"
      ]
     },
     "execution_count": 2,
     "metadata": {},
     "output_type": "execute_result"
    }
   ],
   "source": [
    "# ソフトバンク株式会社の必要データを準備\n",
    "softbank_data = pd.read_csv(\n",
    "    \"https://raw.githubusercontent.com/takumi-saka-mo/DEVIRSIFY_Analysis/main/data/Softbank_category.csv\",\n",
    "    encoding = \"UTF-8\"\n",
    "    ).set_index(\"Category\")\n",
    "\n",
    "\n",
    "softbank_data"
   ]
  },
  {
   "cell_type": "code",
   "execution_count": 3,
   "metadata": {},
   "outputs": [
    {
     "data": {
      "image/png": "[encoded data removed]",
      "text/plain": [
       "<Figure size 700x600 with 1 Axes>"
      ]
     },
     "metadata": {},
     "output_type": "display_data"
    }
   ],
   "source": [
    "df = softbank_data.T.reset_index()\n",
    "df.columns = [\"Category\", \"Sales\"]\n",
    "plt.figure(figsize=(7, 6))\n",
    "sns.barplot(data = df, x = \"Category\", y = \"Sales\", hue = \"Category\",  palette = \"viridis\")\n",
    "plt.title(\"Softbank Revenue by Segments\")\n",
    "plt.ylabel(\"Revenue (*e8)\")\n",
    "plt.xlabel(\"Category\")\n",
    "plt.xticks(rotation=0)\n",
    "plt.tight_layout()\n",
    "plt.show()"
   ]
  },
  {
   "cell_type": "markdown",
   "metadata": {},
   "source": [
    "### セグメント分類について\n",
    "**参照**\n",
    "<br>https://group.softbank/system/files/pdf/ir/financials/annual_reports/financial-report_fy2024_ja.pdf\n",
    "- コンシューマ<br>\n",
    "(a) モバイルサービス及び携帯端末の販売<br>\n",
    "(b)ブロードバンドサービス<br>\n",
    "(c)でんき<br>\n",
    "- エンタープライズ<br>\n",
    "(a) モバイルサービス及び携帯端末レンタルサービス<br>\n",
    "(b)固定通信サービス(音声伝送サービスおよびデータ伝送サービス)<br>\n",
    "(c)ソリューション等(データセンター、クラウド、セキュリティ、グローバル、AI、IoT、機器販売)<br>\n",
    "- ディストリビューション<br>\n",
    "法人顧客向けのICT、クラウド、IoTソリューション等に対応したハードウエア、ソフトウエア、サービスなどの商材、個人顧客向けのモバイルアクセサリー、PCソフトウエア、IoTプロダクト等の商材の販売\n",
    "- メディア・EC<br>\n",
    "(a) メディア(検索広告、アカウント広告、ディスプレイ広告の収入)<br>\n",
    "(b)コマース(アスクルグループの物品販売サービス、「ZOZOTOWN」や「 Yahoo!オークション」等のEC関連サービスの収入)<br>\n",
    "- ファイナンス<br>\n",
    "主にQRコードによる代金決済サービスの提供により生じる加盟店手数料\n"
   ]
  },
  {
   "cell_type": "code",
   "execution_count": 4,
   "metadata": {},
   "outputs": [
    {
     "name": "stdout",
     "output_type": "stream",
     "text": [
      "企業価値: 34814635080128.0\n",
      "超過価値 (EXVAL): 3.1461828077685627\n"
     ]
    }
   ],
   "source": [
    "# セグメント値の設定\n",
    "seg1_value = softbank_data[\"Consumer\"].iloc[0] * 1e8 # 単位 : 億円\n",
    "seg2_value = softbank_data[\"Enterprise\"].iloc[0] * 1e8\n",
    "seg3_value = softbank_data[\"Distribution\"].iloc[0] * 1e8\n",
    "seg4_value = softbank_data[\"Media\"].iloc[0] * 1e8\n",
    "seg5_value = softbank_data[\"Finance\"].iloc[0] * 1e8\n",
    "\n",
    "seg_list = [seg1_value, seg2_value, seg3_value, seg4_value, seg5_value]\n",
    "\n",
    "# 専業企業リスト\n",
    "Consumer = [\n",
    "    \"9432.T\",  # NTT\n",
    "    \"9433.T\",  # KDDI\n",
    "    \"9437.T\",  # 楽天G\n",
    "    \"3844.T\",  # コムシード株式会社（MVNO事業）\n",
    "    \"9424.T\",  # 日本通信（MVNO、格安SIM）\n",
    "    \"9501.T\",  # 東京電力HD（TEPCO、電気）\n",
    "    \"9503.T\",  # 関西電力（電力、ガス事業）\n",
    "    \"9513.T\",  # J-Power（卸電力取引）\n",
    "    \"3659.T\",  # ネクソン（ブロードバンド関連）\n",
    "    \"3774.T\"   # インターネットイニシアティブ\n",
    "    ]\n",
    "Enterprise = [\n",
    "    \"9432.T\",  # NTT\n",
    "    \"9433.T\",  # KDDI\n",
    "    \"9437.T\",  # 楽天G\n",
    "    \"3774.T\",  # インターネットイニシアティブ\n",
    "    \"2327.T\",  # NSD（ネットワークサービス、データ伝送）\n",
    "    \"8056.T\",  # BIPROGY\n",
    "    \"6762.T\",  # TDK（IoT機器販売）\n",
    "    \"6702.T\",  # 富士通（クラウド、AI、IoT）\n",
    "    \"6701.T\",  # NEC（セキュリティ、クラウド）\n",
    "    \"9749.T\",  # 富士ソフト（AI、IoT、クラウド）\n",
    "    \"9613.T\",  # NTTデータ（データ伝送、AI、IoT）\n",
    "    \"9616.T\"   # 共立システム（セキュリティ、システム販売）\n",
    "    ]\n",
    "Distribution = [\n",
    "    \"4768.T\",  # 大塚商会\n",
    "    \"8056.T\",  # BIPROGY\n",
    "    \"9719.T\",  # SCSK\n",
    "    \"9749.T\",  # 富士ソフト株式会社\n",
    "    \"4307.T\",  # 野村総合研究所\n",
    "    \"6701.T\",  # NEC\n",
    "    \"6702.T\",  # 富士通\n",
    "    \"6703.T\"   # 沖電気工業\n",
    "    ]\n",
    "Media = [\n",
    "    \"4689.T\",  # Zホールディングス（LINE、Yahoo! JAPANを運営）\n",
    "    \"4755.T\",  # 楽天グループ（楽天市場、楽天広告など）\n",
    "    \"6098.T\",  # リクルートホールディングス（Indeed、SUUMOなど）\n",
    "    \"4324.T\",  # 電通グループ（広告代理店、デジタル広告）\n",
    "    \"4812.T\",   # 電通国際情報サービス（ISID、デジタルマーケティング）\n",
    "    \"2432.T\",  # ディー・エヌ・エー（Mobage、アプリ広告）\n",
    "    \"2121.T\",  # ミクシィ（mixi、モンストの広告運用）\n",
    "    \"4385.T\",  # メルカリ（フリマアプリ、EC広告）\n",
    "    \"4477.T\",  # BASE（ネットショップ作成支援サービス）\n",
    "    \"3926.T\"   # オープンドア（旅行情報サイト「トラベルコ」）\n",
    "    ]\n",
    "Finance = [\n",
    "    \"3769.T\",  # GMOペイメントゲートウェイ (決済代行サービス)\n",
    "    \"4051.T\",  # GMOフィナンシャルゲート (QRコード決済対応端末)\n",
    "    \"4072.T\",  # 電算システム (収納代行・決済サービス)\n",
    "    \"4689.T\",  # Zホールディングス (PayPay、LINE Pay)\n",
    "    \"4755.T\",  # 楽天グループ (楽天ペイ)\n",
    "    \"4015.T\",  # ペイロール (決済クラウド)\n",
    "    \"2428.T\",  # ウェルネット (QRコード決済、収納代行)\n",
    "    \"3623.T\",  # ビリングシステム (決済プラットフォーム)\n",
    "    \"4385.T\",  # メルカリ (メルペイ - QRコード決済)\n",
    "    \"4477.T\",  # BASE (ネットショップ作成、QRコード決済)\n",
    "    \"4449.T\"   # ギフティ (電子ギフト決済)\n",
    "    ]\n",
    "specialized_tickers = [Consumer, Enterprise, Distribution,Media, Finance]\n",
    "\n",
    "# DiversifyApproach\n",
    "div_approach = DiversifyApproach(\n",
    "    ticker = \"9984.T\", # SoftBank\n",
    "    specialized_tickers = specialized_tickers,\n",
    "    data = softbank_data\n",
    ")\n",
    "\n",
    "# ソフトバンクグループの企業価値の計算\n",
    "value = div_approach.calculate_value()\n",
    "print(f\"企業価値: {value}\")\n",
    "\n",
    "# EXVAL（超過価値）の計算\n",
    "exval = div_approach.calculate_exval(seg_list)\n",
    "print(f\"超過価値 (EXVAL): {exval}\")"
   ]
  },
  {
   "cell_type": "code",
   "execution_count": 6,
   "metadata": {},
   "outputs": [
    {
     "name": "stdout",
     "output_type": "stream",
     "text": [
      "ソフトバンクグループの時価総額: 13452604080128 円\n",
      "ソフトバンクグループ企業価値34814635080128.0\n"
     ]
    }
   ],
   "source": [
    "import yfinance as yf\n",
    "\n",
    "# ソフトバンクグループ (9984.T) のデータを取得\n",
    "ticker = \"9984.T\"\n",
    "softbank = yf.Ticker(ticker)\n",
    "\n",
    "# 時価総額（Market Cap）を取得\n",
    "softbank_info = softbank.info\n",
    "market_cap = softbank_info.get(\"marketCap\", None)  # 市場価値（時価総額）\n",
    "\n",
    "# 結果の表示\n",
    "print(f\"ソフトバンクグループの時価総額: {market_cap} 円\")\n",
    "total_debt = yf.Ticker(ticker).balance_sheet.loc[\"Total Debt\"].iloc[0]\n",
    "value = market_cap + total_debt\n",
    "print(f\"ソフトバンクグループ企業価値{value}\")\n",
    "34814635080128"
   ]
  },
  {
   "cell_type": "markdown",
   "metadata": {},
   "source": [
    "## 楽天グループ株式会社"
   ]
  },
  {
   "cell_type": "code",
   "execution_count": 6,
   "metadata": {},
   "outputs": [
    {
     "data": {
      "text/html": [
       "<div>\n",
       "<style scoped>\n",
       "    .dataframe tbody tr th:only-of-type {\n",
       "        vertical-align: middle;\n",
       "    }\n",
       "\n",
       "    .dataframe tbody tr th {\n",
       "        vertical-align: top;\n",
       "    }\n",
       "\n",
       "    .dataframe thead th {\n",
       "        text-align: right;\n",
       "    }\n",
       "</style>\n",
       "<table border=\"1\" class=\"dataframe\">\n",
       "  <thead>\n",
       "    <tr style=\"text-align: right;\">\n",
       "      <th></th>\n",
       "      <th>Services</th>\n",
       "      <th>FinTech</th>\n",
       "      <th>Mobile</th>\n",
       "    </tr>\n",
       "    <tr>\n",
       "      <th>Category</th>\n",
       "      <th></th>\n",
       "      <th></th>\n",
       "      <th></th>\n",
       "    </tr>\n",
       "  </thead>\n",
       "  <tbody>\n",
       "    <tr>\n",
       "      <th>Sales</th>\n",
       "      <td>314570</td>\n",
       "      <td>208229</td>\n",
       "      <td>105986</td>\n",
       "    </tr>\n",
       "  </tbody>\n",
       "</table>\n",
       "</div>"
      ],
      "text/plain": [
       "           Services  FinTech  Mobile\n",
       "Category                            \n",
       "Sales        314570   208229  105986"
      ]
     },
     "execution_count": 6,
     "metadata": {},
     "output_type": "execute_result"
    }
   ],
   "source": [
    "# ソフトバンク株式会社の必要データを準備\n",
    "rakuten_data = pd.read_csv(\n",
    "    \"https://raw.githubusercontent.com/takumi-saka-mo/DEVIRSIFY_Analysis/main/data/RAKUTEN.csv\",\n",
    "    encoding = \"UTF-8\"\n",
    "    ).set_index(\"Category\")\n",
    "\n",
    "\n",
    "rakuten_data"
   ]
  },
  {
   "cell_type": "code",
   "execution_count": 7,
   "metadata": {},
   "outputs": [
    {
     "data": {
      "image/png": "[encoded data removed]",
      "text/plain": [
       "<Figure size 700x600 with 1 Axes>"
      ]
     },
     "metadata": {},
     "output_type": "display_data"
    }
   ],
   "source": [
    "df = rakuten_data.T.reset_index()\n",
    "df.columns = [\"Category\", \"Sales\"]\n",
    "plt.figure(figsize=(7, 6))\n",
    "sns.barplot(data = df, x = \"Category\", y = \"Sales\", hue = \"Category\",  palette = \"viridis\")\n",
    "plt.title(\"Ratkuten Revenue by Segments\")\n",
    "plt.ylabel(\"Revenue (*e6)\")\n",
    "plt.xlabel(\"Category\")\n",
    "plt.xticks(rotation=0)\n",
    "plt.tight_layout()\n",
    "plt.show()"
   ]
  },
  {
   "cell_type": "markdown",
   "metadata": {},
   "source": [
    "### セグメント分類について\n",
    "**参照**\n",
    "<br>https://group.softbank/system/files/pdf/ir/financials/annual_reports/financial-report_fy2024_ja.pdf\n",
    "- コンシューマ<br>\n",
    "(a) モバイルサービス及び携帯端末の販売<br>\n",
    "(b)ブロードバンドサービス<br>\n",
    "(c)でんき<br>\n",
    "- エンタープライズ<br>\n",
    "(a) モバイルサービス及び携帯端末レンタルサービス<br>\n",
    "(b)固定通信サービス(音声伝送サービスおよびデータ伝送サービス)<br>\n",
    "(c)ソリューション等(データセンター、クラウド、セキュリティ、グローバル、AI、IoT、機器販売)<br>\n",
    "- ディストリビューション<br>\n",
    "法人顧客向けのICT、クラウド、IoTソリューション等に対応したハードウエア、ソフトウエア、サービスなどの商材、個人顧客向けのモバイルアクセサリー、PCソフトウエア、IoTプロダクト等の商材の販売\n",
    "- メディア・EC<br>\n",
    "(a) メディア(検索広告、アカウント広告、ディスプレイ広告の収入)<br>\n",
    "(b)コマース(アスクルグループの物品販売サービス、「ZOZOTOWN」や「 Yahoo!オークション」等のEC関連サービスの収入)<br>\n",
    "- ファイナンス<br>\n",
    "主にQRコードによる代金決済サービスの提供により生じる加盟店手数料\n"
   ]
  },
  {
   "cell_type": "code",
   "execution_count": null,
   "metadata": {},
   "outputs": [],
   "source": []
  },
  {
   "cell_type": "code",
   "execution_count": null,
   "metadata": {},
   "outputs": [],
   "source": []
  }
 ],
 "metadata": {
  "kernelspec": {
   "display_name": "3.12.1",
   "language": "python",
   "name": "python3"
  },
  "language_info": {
   "codemirror_mode": {
    "name": "ipython",
    "version": 3
   },
   "file_extension": ".py",
   "mimetype": "text/x-python",
   "name": "python",
   "nbconvert_exporter": "python",
   "pygments_lexer": "ipython3",
   "version": "3.12.1"
  }
 },
 "nbformat": 4,
 "nbformat_minor": 2
}
