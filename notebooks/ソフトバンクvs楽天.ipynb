{
 "cells": [
  {
   "cell_type": "markdown",
   "metadata": {},
   "source": [
    "[![Open In Colab](https://colab.research.google.com/assets/colab-badge.svg)](https://colab.research.google.com/github/takumi-saka-mo/DEVIRSIFY_Analysis/blob/main/notebooks/ソフトバンクvs楽天.ipynb)\n",
    "\n",
    "# ソフトバンク株式会社 vs 楽天グループ株式会社\n",
    "\n",
    "ソフトバンク株式会社...移動通信サービスの提供、携帯端末の販売、固定通信サービスの提供、インターネット接続サービスの提供<br>\n",
    "楽天グループ株式会社...ECサイト, インベストメント, フィンテック<br>"
   ]
  },
  {
   "cell_type": "code",
   "execution_count": null,
   "metadata": {},
   "outputs": [],
   "source": [
    "# calculate_EXVAL ディレクトリに格納されているクラスをインストール\n",
    "! pip install git+https://github.com/takumi-saka-mo/DEVIRSIFY_Analysis.git\n",
    "from calculate_EXVAL import DiversifyApproach\n",
    "import pandas as pd\n",
    "import matplotlib.pyplot as plt\n",
    "import seaborn as sns"
   ]
  },
  {
   "cell_type": "markdown",
   "metadata": {},
   "source": [
    "## ソフトバンク株式会社\n",
    "\n",
    "**財務データ参照先**<br>\n",
    "https://www.softbank.jp/corp/set/data/ir/documents/financial_reports/fy2023/pdf/sbkk_financial_report_20240509.pdf\n"
   ]
  },
  {
   "cell_type": "code",
   "execution_count": 7,
   "metadata": {},
   "outputs": [
    {
     "data": {
      "text/html": [
       "<div>\n",
       "<style scoped>\n",
       "    .dataframe tbody tr th:only-of-type {\n",
       "        vertical-align: middle;\n",
       "    }\n",
       "\n",
       "    .dataframe tbody tr th {\n",
       "        vertical-align: top;\n",
       "    }\n",
       "\n",
       "    .dataframe thead th {\n",
       "        text-align: right;\n",
       "    }\n",
       "</style>\n",
       "<table border=\"1\" class=\"dataframe\">\n",
       "  <thead>\n",
       "    <tr style=\"text-align: right;\">\n",
       "      <th></th>\n",
       "      <th>Consumer</th>\n",
       "      <th>Enterprise</th>\n",
       "      <th>Distribution</th>\n",
       "      <th>Media</th>\n",
       "      <th>Finance</th>\n",
       "    </tr>\n",
       "    <tr>\n",
       "      <th>Category</th>\n",
       "      <th></th>\n",
       "      <th></th>\n",
       "      <th></th>\n",
       "      <th></th>\n",
       "      <th></th>\n",
       "    </tr>\n",
       "  </thead>\n",
       "  <tbody>\n",
       "    <tr>\n",
       "      <th>Sales</th>\n",
       "      <td>280132</td>\n",
       "      <td>763194</td>\n",
       "      <td>569076</td>\n",
       "      <td>1586072</td>\n",
       "      <td>215987</td>\n",
       "    </tr>\n",
       "  </tbody>\n",
       "</table>\n",
       "</div>"
      ],
      "text/plain": [
       "          Consumer  Enterprise  Distribution    Media  Finance\n",
       "Category                                                      \n",
       "Sales       280132      763194        569076  1586072   215987"
      ]
     },
     "execution_count": 7,
     "metadata": {},
     "output_type": "execute_result"
    }
   ],
   "source": [
    "# ソフトバンク株式会社の必要データを準備\n",
    "softbank_data = pd.read_csv(\n",
    "    \"https://raw.githubusercontent.com/takumi-saka-mo/DEVIRSIFY_Analysis/main/data/Softbank_category.csv\",\n",
    "    encoding = \"UTF-8\"\n",
    "    ).set_index(\"Category\")\n",
    "\n",
    "\n",
    "softbank_data"
   ]
  },
  {
   "cell_type": "code",
   "execution_count": 8,
   "metadata": {},
   "outputs": [
    {
     "data": {
      "image/png": "[encoded data removed]",
      "text/plain": [
       "<Figure size 700x600 with 1 Axes>"
      ]
     },
     "metadata": {},
     "output_type": "display_data"
    }
   ],
   "source": [
    "df = softbank_data.T.reset_index()\n",
    "df.columns = [\"Category\", \"Sales\"]\n",
    "plt.figure(figsize=(7, 6))\n",
    "sns.barplot(data = df, x = \"Category\", y = \"Sales\", hue = \"Category\",  palette = \"viridis\")\n",
    "plt.title(\"Softbank Revenue by Segments\")\n",
    "plt.ylabel(\"Revenue (*e8)\")\n",
    "plt.xlabel(\"Category\")\n",
    "plt.xticks(rotation=0)\n",
    "plt.tight_layout()\n",
    "plt.show()"
   ]
  },
  {
   "cell_type": "markdown",
   "metadata": {},
   "source": [
    "### セグメント分類について\n",
    "**参照**\n",
    "<br>https://group.softbank/system/files/pdf/ir/financials/annual_reports/financial-report_fy2024_ja.pdf\n",
    "- コンシューマ<br>\n",
    "(a) モバイルサービス及び携帯端末の販売<br>\n",
    "(b)ブロードバンドサービス<br>\n",
    "(c)でんき<br>\n",
    "- エンタープライズ<br>\n",
    "(a) モバイルサービス及び携帯端末レンタルサービス<br>\n",
    "(b)固定通信サービス(音声伝送サービスおよびデータ伝送サービス)<br>\n",
    "(c)ソリューション等(データセンター、クラウド、セキュリティ、グローバル、AI、IoT、機器販売)<br>\n",
    "- ディストリビューション<br>\n",
    "法人顧客向けのICT、クラウド、IoTソリューション等に対応したハードウエア、ソフトウエア、サービスなどの商材、個人顧客向けのモバイルアクセサリー、PCソフトウエア、IoTプロダクト等の商材の販売\n",
    "- メディア・EC<br>\n",
    "(a) メディア(検索広告、アカウント広告、ディスプレイ広告の収入)<br>\n",
    "(b)コマース(アスクルグループの物品販売サービス、「ZOZOTOWN」や「 Yahoo!オークション」等のEC関連サービスの収入)<br>\n",
    "- ファイナンス<br>\n",
    "主にQRコードによる代金決済サービスの提供により生じる加盟店手数料\n"
   ]
  },
  {
   "cell_type": "code",
   "execution_count": 13,
   "metadata": {},
   "outputs": [
    {
     "name": "stdout",
     "output_type": "stream",
     "text": [
      "企業価値: 34814635080128.0\n",
      "超過価値 (EXVAL): 1.7976939736606807\n"
     ]
    }
   ],
   "source": [
    "# セグメント値の設定\n",
    "seg1_value = softbank_data[\"Consumer\"].iloc[0] * 1e6 # 単位 : 百万円\n",
    "seg2_value = softbank_data[\"Enterprise\"].iloc[0] * 1e6\n",
    "seg3_value = softbank_data[\"Distribution\"].iloc[0] * 1e6\n",
    "seg4_value = softbank_data[\"Media\"].iloc[0] * 1e6\n",
    "seg5_value = softbank_data[\"Finance\"].iloc[0] * 1e6\n",
    "\n",
    "seg_list = [seg1_value, seg2_value, seg3_value, seg4_value, seg5_value]\n",
    "\n",
    "# 専業企業リスト\n",
    "Consumer = [\n",
    "    \"9432.T\",  # NTT\n",
    "    \"9433.T\",  # KDDI\n",
    "    \"9437.T\",  # 楽天G\n",
    "    \"3844.T\",  # コムシード(格安SIM)\n",
    "    \"9424.T\",  # 日本通信(格安SIM)\n",
    "    \"9501.T\",  # 東京電力HD\n",
    "    \"9503.T\",  # 関西電力\n",
    "    \"9513.T\",  # J-Power\n",
    "    \"3659.T\",  # ネクソン(ブロードバンド)\n",
    "    \"3774.T\"   # インターネットイニシアティブ\n",
    "    ]\n",
    "\n",
    "Enterprise = [\n",
    "    \"9432.T\",  # NTT\n",
    "    \"9433.T\",  # KDDI\n",
    "    \"9437.T\",  # 楽天G\n",
    "    \"3774.T\",  # インターネットイニシアティブ\n",
    "    \"2327.T\",  # NSD(ネットワークサービス)\n",
    "    \"8056.T\",  # BIPROGY\n",
    "    \"6762.T\",  # TDK（IoT機器販売）\n",
    "    \"6702.T\",  # 富士通（クラウド、AI、IoT）\n",
    "    \"6701.T\",  # NEC（セキュリティ、クラウド）\n",
    "    \"9749.T\",  # 富士ソフト（AI、IoT、クラウド）\n",
    "    \"9613.T\",  # NTTデータ（データ伝送、AI、IoT）\n",
    "    \"9616.T\" ,  # 共立システム（セキュリティ、システム販売）\n",
    "    ]\n",
    "\n",
    "Distribution = [\n",
    "    \"4768.T\",  # 大塚商会\n",
    "    \"8056.T\",  # BIPROGY\n",
    "    \"9719.T\",  # SCSK\n",
    "    \"9749.T\",  # 富士ソフト株式会社\n",
    "    \"4307.T\",  # 野村総合研究所\n",
    "    \"6701.T\",  # NEC\n",
    "    \"6702.T\",  # 富士通\n",
    "    \"6703.T\"   # 沖電気工業\n",
    "    ]\n",
    "Media = [\n",
    "    \"4689.T\",  # LINEヤフー\n",
    "    \"4755.T\",  # 楽天G（楽天市場、楽天広告など）\n",
    "    \"6098.T\",  # リクルートHD(Indeed、SUUMOなど)\n",
    "    \"4324.T\",  # 電通G\n",
    "    \"4812.T\",   # 電通国際情報サービス\n",
    "    \"2432.T\",  # DeNA（Mobage、アプリ広告）\n",
    "    \"2121.T\",  # ミクシィ\n",
    "    \"4385.T\",  # メルカリ\n",
    "    \"4477.T\",  # BASE(EC広告)\n",
    "    \"3926.T\",   # オープンドア(トラベルコ)\n",
    "    ]\n",
    "\n",
    "Finance = [\n",
    "    \"3769.T\",  # GMOペイメントゲートウェイ(代行)\n",
    "    \"4051.T\",  # GMOフィナンシャルゲート(QR決済端末)\n",
    "    \"4072.T\",  # 電算システム(コンビニの収納代行・決済サービス)\n",
    "    \"4689.T\",  # LINEヤフー\n",
    "    \"4015.T\",  # ペイロール(決済クラウド)\n",
    "    \"2428.T\",  # ウェルネット(QRコード決済、収納代行)\n",
    "    \"3623.T\",  # ビリングシステム \n",
    "    \"4385.T\",  # メルカリ(メルペイ)\n",
    "    \"4477.T\",  # BASE(ネットショップ作成、QRコード決済)\n",
    "    \"4449.T\",   # ギフティ(電子ギフト決済)\n",
    "    ]\n",
    "specialized_tickers = [Consumer, Enterprise, Distribution,Media, Finance]\n",
    "\n",
    "# DiversifyApproach\n",
    "div_approach = DiversifyApproach(\n",
    "    ticker = \"9984.T\", # SoftBank\n",
    "    specialized_tickers = specialized_tickers,\n",
    "    data = softbank_data\n",
    ")\n",
    "\n",
    "# ソフトバンクグループの企業価値の計算\n",
    "value = div_approach.calculate_value()\n",
    "print(f\"企業価値: {value}\")\n",
    "\n",
    "# EXVAL（超過価値）の計算\n",
    "exval = div_approach.calculate_exval(seg_list)\n",
    "print(f\"超過価値 (EXVAL): {exval}\")"
   ]
  },
  {
   "cell_type": "markdown",
   "metadata": {},
   "source": [
    "## 楽天グループ株式会社"
   ]
  },
  {
   "cell_type": "code",
   "execution_count": 10,
   "metadata": {},
   "outputs": [
    {
     "data": {
      "text/html": [
       "<div>\n",
       "<style scoped>\n",
       "    .dataframe tbody tr th:only-of-type {\n",
       "        vertical-align: middle;\n",
       "    }\n",
       "\n",
       "    .dataframe tbody tr th {\n",
       "        vertical-align: top;\n",
       "    }\n",
       "\n",
       "    .dataframe thead th {\n",
       "        text-align: right;\n",
       "    }\n",
       "</style>\n",
       "<table border=\"1\" class=\"dataframe\">\n",
       "  <thead>\n",
       "    <tr style=\"text-align: right;\">\n",
       "      <th></th>\n",
       "      <th>Services</th>\n",
       "      <th>FinTech</th>\n",
       "      <th>Mobile</th>\n",
       "    </tr>\n",
       "    <tr>\n",
       "      <th>Category</th>\n",
       "      <th></th>\n",
       "      <th></th>\n",
       "      <th></th>\n",
       "    </tr>\n",
       "  </thead>\n",
       "  <tbody>\n",
       "    <tr>\n",
       "      <th>Sales</th>\n",
       "      <td>1212314</td>\n",
       "      <td>725165</td>\n",
       "      <td>364556</td>\n",
       "    </tr>\n",
       "  </tbody>\n",
       "</table>\n",
       "</div>"
      ],
      "text/plain": [
       "           Services  FinTech  Mobile\n",
       "Category                            \n",
       "Sales       1212314   725165  364556"
      ]
     },
     "execution_count": 10,
     "metadata": {},
     "output_type": "execute_result"
    }
   ],
   "source": [
    "# ソフトバンク株式会社の必要データを準備\n",
    "Rakuten_data = pd.read_csv(\n",
    "    \"https://raw.githubusercontent.com/takumi-saka-mo/DEVIRSIFY_Analysis/main/data/RAKUTEN.csv\",\n",
    "    encoding = \"UTF-8\"\n",
    "    ).set_index(\"Category\")\n",
    "\n",
    "\n",
    "Rakuten_data"
   ]
  },
  {
   "cell_type": "code",
   "execution_count": 11,
   "metadata": {},
   "outputs": [
    {
     "data": {
      "image/png": "[encoded data removed]",
      "text/plain": [
       "<Figure size 700x600 with 1 Axes>"
      ]
     },
     "metadata": {},
     "output_type": "display_data"
    }
   ],
   "source": [
    "df = Rakuten_data.T.reset_index()\n",
    "df.columns = [\"Category\", \"Sales\"]\n",
    "plt.figure(figsize=(7, 6))\n",
    "sns.barplot(data = df, x = \"Category\", y = \"Sales\", hue = \"Category\",  palette = \"viridis\")\n",
    "plt.title(\"Ratkuten Revenue by Segments\")\n",
    "plt.ylabel(\"Revenue (*e6)\")\n",
    "plt.xlabel(\"Category\")\n",
    "plt.xticks(rotation=0)\n",
    "plt.tight_layout()\n",
    "plt.show()"
   ]
  },
  {
   "cell_type": "markdown",
   "metadata": {},
   "source": [
    "### セグメント分類について\n",
    "**参照**\n",
    "<br>https://corp.rakuten.co.jp/investors/assets/doc/documents/23Q4tanshin_J.pdf\n",
    "- インターネットサービス<br>\n",
    "(a) インターネット・ショッピングモール(楽天市場)<br>\n",
    "(b)楽天トラベル, ポータルサイト等のサービス<br>\n",
    "(c)上記サイトの広告販売<br>\n",
    "- フィンテック<br>\n",
    "(a) クレジット関連サービス<br>\n",
    "(b) インターネットバンキング&証券<br>\n",
    "(c) 保険等金融商品の販売<br>\n",
    "(d) 電子マネーサービス<br>\n",
    "- モバイル<br>\n",
    "通信サービス及び通信技術の提供並びに電力供給サービスの運営等を行う事業\n"
   ]
  },
  {
   "cell_type": "code",
   "execution_count": 14,
   "metadata": {},
   "outputs": [
    {
     "name": "stdout",
     "output_type": "stream",
     "text": [
      "企業価値: 6908845970240.0\n",
      "超過価値 (EXVAL): 0.42522563453458945\n"
     ]
    }
   ],
   "source": [
    "# セグメント値の設定\n",
    "seg1_value = Rakuten_data[\"Services\"].iloc[0] * 1e6 # 単位 : 百万円\n",
    "seg2_value = Rakuten_data[\"FinTech\"].iloc[0] * 1e6\n",
    "seg3_value = Rakuten_data[\"Mobile\"].iloc[0] * 1e6\n",
    "\n",
    "seg_list = [seg1_value, seg2_value, seg3_value]\n",
    "\n",
    "# 専業企業リスト\n",
    "Services = [\n",
    "    \"4689.T\",  # Zホールディングス (Yahoo!ショッピング、広告販売)\n",
    "    \"6098.T\",  # リクルート (Indeed、広告プラットフォーム)\n",
    "    \"2121.T\",  # ミクシィ (モンスターストライク、広告収益)\n",
    "    \"2432.T\",  # ディー・エヌ・エー (ゲーム、広告)\n",
    "    \"4385.T\",  # メルカリ (フリマアプリ)\n",
    "    \"3994.T\",  # マクロミル (マーケティングリサーチ)\n",
    "    \"4751.T\",  # サイバーエージェント (広告プラットフォーム、AbemaTV)\n",
    "    \"3092.T\"   # ZOZO (ECプラットフォーム)\n",
    "]\n",
    "\n",
    "FinTech = [\n",
    "    \"3769.T\",  # GMOペイメントゲートウェイ(代行)\n",
    "    \"4051.T\",  # GMOフィナンシャルゲート(QR決済端末)\n",
    "    \"4072.T\",  # 電算システム(コンビニの収納代行・決済サービス)\n",
    "    \"4689.T\",  # LINEヤフー\n",
    "    \"4015.T\",  # ペイロール(決済クラウド)\n",
    "    \"2428.T\",  # ウェルネット(QRコード決済、収納代行)\n",
    "    \"3623.T\",  # ビリングシステム \n",
    "    \"4385.T\",  # メルカリ(メルペイ)\n",
    "    \"4477.T\",  # BASE(ネットショップ作成、QRコード決済)\n",
    "    \"4449.T\"   # ギフティ(電子ギフト決済)\n",
    "    ]\n",
    "\n",
    "Mobile = [\n",
    "    \"9432.T\",  # NTT\n",
    "    \"9433.T\",  # KDDI\n",
    "    \"9434.T\",  # ソフトバンク\n",
    "    \"4755.T\",  # 楽天G\n",
    "    \"9436.T\",  # 沖縄セルラー\n",
    "    \"9416.T\",  # ビジョン(おもにWi-Fi)\n",
    "    \"3696.T\",  # セレス(モバイルサービス)\n",
    "    \"9437.T\",  # NTTドコモ\n",
    "    \"9424.T\"   # 日本通信(格安SIM)\n",
    "    ]\n",
    "specialized_tickers = [Services, FinTech, Mobile]\n",
    "\n",
    "# DiversifyApproach\n",
    "div_approach = DiversifyApproach(\n",
    "    ticker = \"4755.T\", # 楽天グループ\n",
    "    specialized_tickers = specialized_tickers,\n",
    "    data = Rakuten_data\n",
    ")\n",
    "\n",
    "# ソフトバンクグループの企業価値の計算\n",
    "value = div_approach.calculate_value()\n",
    "print(f\"企業価値: {value}\")\n",
    "\n",
    "# EXVAL（超過価値）の計算\n",
    "exval = div_approach.calculate_exval(seg_list)\n",
    "print(f\"超過価値 (EXVAL): {exval}\")"
   ]
  },
  {
   "cell_type": "markdown",
   "metadata": {},
   "source": [
    "## 結果\n",
    "[ソフトバンク]\n",
    "\n",
    "Consumer   Enterprise   Distribution   Media   Finance\n",
    "\n",
    "企業価値: 34814635080128.0<br>\n",
    "超過価値 (EXVAL): 1.7976939736606807\n",
    "\n",
    "[楽天]\n",
    "\n",
    "Services   FinTech   Mobile\n",
    "\n",
    "企業価値: 6908845970240.0<br>\n",
    "超過価値 (EXVAL): 0.42522563453458945\n",
    "\n",
    "\n",
    "\n",
    "\n",
    "1. 企業価値<br>\n",
    "<br>\n",
    "[ソフトバンク]<br>約34.81兆円<br><br>\n",
    "[楽天]<br>約6.91兆円<br><br>\n",
    "ソフトバンクの企業価値　(34.81兆円)は, 楽天(6.91兆円)のおよそ5倍であり, 企業規模の視点では, 楽天に比べソフトバンクが大きく上回っている.\n",
    "<br>\n",
    "2社の違いとしては, \n",
    "- ソフトバンクは主に通信事業. 他にもメディア・広告やECといった他分野事業も展開している.\n",
    "- 楽天はEC, フィンテック, モバイル事業の複数分野を展開している. モバイル事業は売上高として低くなっており, 収益を得ることができていない?\n",
    "\n",
    "<br>\n",
    "\n",
    "2. 超過価値(EXVAL)<br>\n",
    "超過価値においてもソフトバンクのほうが大きく上回っている.<br>\n",
    "ソフトバンクの超過価値より, 各事業を専業と仮定すると, それぞれの事業水準を大きく超える価値を生み出すことができている.<br>\n",
    "一方で楽天は複数事業を展開しているが, それぞれで専門性を発揮できていおらず, 各事業の水準よりも下回っている. \n",
    "3. 結論<br>\n",
    "[ソフトバンク]<br>\n",
    "メインとする通信事業に限らず, メディア事業やEC事業の売上も高い.<br>\n",
    "各事業は水準以上の収益を得ており, 高い超過価値を生み出している.\n",
    "[楽天]\n",
    "ECやフィンテック, モバイルなど多くの領域を持つが, モバイル事業の収益が進んでいないようにみえる.\n",
    "<br>\n",
    "QR決済において, 楽天PAYはシェア第2位の23%(1位 : PayPay 51%)を占めているにも関わらず, なぜフィンテック領域が伸びていないのかが疑問である.\n",
    "<br>\n",
    "\n",
    "\n",
    "[株式会社インフキュリオン​「決済動向2024年上期調査」](https://squareup.com/jp/ja/townsquare/market-share-of-qr-code-payment#:~:text=%E5%90%84QR%E3%82%B3%E3%83%BC%E3%83%89%E6%B1%BA%E6%B8%88%E3%82%B5%E3%83%BC%E3%83%93%E3%82%B9%E3%81%AE%E2%80%8B%E3%82%B7%E3%82%A7%E3%82%A2%E7%8E%87,-%E6%A0%AA%E5%BC%8F%E4%BC%9A%E7%A4%BE%E3%82%A4%E3%83%B3%E3%83%95&text=%E3%81%AA%E3%81%A3%E3%81%A6%E3%81%84%E3%81%BE%E3%81%99%E3%80%82-,%E2%80%8B%E4%BB%96%E3%81%AE%E2%80%8BQR%E3%82%B3%E3%83%BC%E3%83%89%E6%B1%BA%E6%B8%88%E3%82%B5%E3%83%BC%E3%83%93%E3%82%B9%E3%82%92%E2%80%8B,%E3%81%8C%E2%80%8B6%25%E3%81%A7%E3%81%97%E3%81%9F%E3%80%82)\n",
    "<br>\n"
   ]
  }
 ],
 "metadata": {
  "kernelspec": {
   "display_name": "3.12.1",
   "language": "python",
   "name": "python3"
  },
  "language_info": {
   "codemirror_mode": {
    "name": "ipython",
    "version": 3
   },
   "file_extension": ".py",
   "mimetype": "text/x-python",
   "name": "python",
   "nbconvert_exporter": "python",
   "pygments_lexer": "ipython3",
   "version": "3.12.1"
  }
 },
 "nbformat": 4,
 "nbformat_minor": 2
}
