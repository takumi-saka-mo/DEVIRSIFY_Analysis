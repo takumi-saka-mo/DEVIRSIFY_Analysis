{
 "cells": [
  {
   "cell_type": "markdown",
   "metadata": {},
   "source": [
    "[![Open In Colab](https://colab.research.google.com/assets/colab-badge.svg)](https://colab.research.google.com/github/takumi-saka-mo/DEVIRSIFY_Analysis/blob/main/notebooks/ソフトバンクvs楽天.ipynb)\n",
    "\n",
    "# ソフトバンク株式会社 vs 楽天グループ株式会社\n",
    "\n",
    "ソフトバンク株式会社...移動通信サービスの提供、携帯端末の販売、固定通信サービスの提供、インターネット接続サービスの提供<br>\n",
    "楽天グループ株式会社...ECサイト, インベストメント, フィンテック<br>\n",
    "\n",
    "\n",
    "\n",
    "### 参照\n",
    "https://www.softbank.jp/corp/set/data/ir/documents/financial_reports/fy2023/pdf/sbkk_financial_report_20240509.pdf"
   ]
  },
  {
   "cell_type": "code",
   "execution_count": 1,
   "metadata": {},
   "outputs": [
    {
     "name": "stdout",
     "output_type": "stream",
     "text": [
      "Collecting git+https://github.com/takumi-saka-mo/DEVIRSIFY_Analysis.git\n",
      "  Cloning https://github.com/takumi-saka-mo/DEVIRSIFY_Analysis.git to /private/var/folders/g_/z45jvr095xx_y26gdztl1fbc0000gn/T/pip-req-build-q6kj7tt6\n",
      "  Running command git clone --filter=blob:none --quiet https://github.com/takumi-saka-mo/DEVIRSIFY_Analysis.git /private/var/folders/g_/z45jvr095xx_y26gdztl1fbc0000gn/T/pip-req-build-q6kj7tt6\n",
      "  Resolved https://github.com/takumi-saka-mo/DEVIRSIFY_Analysis.git to commit 2307f6d6f817ae106ec80d4b42b1b40abb68e7de\n",
      "  Preparing metadata (setup.py) ... \u001b[?25ldone\n",
      "\u001b[?25hRequirement already satisfied: pandas in /Users/takumi.saka.mo0107/.pyenv/versions/3.12.1/lib/python3.12/site-packages (from DiversifyApproach_package==0.0.2) (2.2.3)\n",
      "Requirement already satisfied: numpy in /Users/takumi.saka.mo0107/.pyenv/versions/3.12.1/lib/python3.12/site-packages (from DiversifyApproach_package==0.0.2) (2.1.3)\n",
      "Requirement already satisfied: yfinance in /Users/takumi.saka.mo0107/.pyenv/versions/3.12.1/lib/python3.12/site-packages (from DiversifyApproach_package==0.0.2) (0.2.50)\n",
      "Requirement already satisfied: python-dateutil>=2.8.2 in /Users/takumi.saka.mo0107/.pyenv/versions/3.12.1/lib/python3.12/site-packages (from pandas->DiversifyApproach_package==0.0.2) (2.9.0.post0)\n",
      "Requirement already satisfied: pytz>=2020.1 in /Users/takumi.saka.mo0107/.pyenv/versions/3.12.1/lib/python3.12/site-packages (from pandas->DiversifyApproach_package==0.0.2) (2024.2)\n",
      "Requirement already satisfied: tzdata>=2022.7 in /Users/takumi.saka.mo0107/.pyenv/versions/3.12.1/lib/python3.12/site-packages (from pandas->DiversifyApproach_package==0.0.2) (2024.2)\n",
      "Requirement already satisfied: requests>=2.31 in /Users/takumi.saka.mo0107/.pyenv/versions/3.12.1/lib/python3.12/site-packages (from yfinance->DiversifyApproach_package==0.0.2) (2.32.3)\n",
      "Requirement already satisfied: multitasking>=0.0.7 in /Users/takumi.saka.mo0107/.pyenv/versions/3.12.1/lib/python3.12/site-packages (from yfinance->DiversifyApproach_package==0.0.2) (0.0.11)\n",
      "Requirement already satisfied: lxml>=4.9.1 in /Users/takumi.saka.mo0107/.pyenv/versions/3.12.1/lib/python3.12/site-packages (from yfinance->DiversifyApproach_package==0.0.2) (5.3.0)\n",
      "Requirement already satisfied: platformdirs>=2.0.0 in /Users/takumi.saka.mo0107/.pyenv/versions/3.12.1/lib/python3.12/site-packages (from yfinance->DiversifyApproach_package==0.0.2) (4.3.6)\n",
      "Requirement already satisfied: frozendict>=2.3.4 in /Users/takumi.saka.mo0107/.pyenv/versions/3.12.1/lib/python3.12/site-packages (from yfinance->DiversifyApproach_package==0.0.2) (2.4.6)\n",
      "Requirement already satisfied: peewee>=3.16.2 in /Users/takumi.saka.mo0107/.pyenv/versions/3.12.1/lib/python3.12/site-packages (from yfinance->DiversifyApproach_package==0.0.2) (3.17.8)\n",
      "Requirement already satisfied: beautifulsoup4>=4.11.1 in /Users/takumi.saka.mo0107/.pyenv/versions/3.12.1/lib/python3.12/site-packages (from yfinance->DiversifyApproach_package==0.0.2) (4.12.3)\n",
      "Requirement already satisfied: html5lib>=1.1 in /Users/takumi.saka.mo0107/.pyenv/versions/3.12.1/lib/python3.12/site-packages (from yfinance->DiversifyApproach_package==0.0.2) (1.1)\n",
      "Requirement already satisfied: soupsieve>1.2 in /Users/takumi.saka.mo0107/.pyenv/versions/3.12.1/lib/python3.12/site-packages (from beautifulsoup4>=4.11.1->yfinance->DiversifyApproach_package==0.0.2) (2.6)\n",
      "Requirement already satisfied: six>=1.9 in /Users/takumi.saka.mo0107/.pyenv/versions/3.12.1/lib/python3.12/site-packages (from html5lib>=1.1->yfinance->DiversifyApproach_package==0.0.2) (1.16.0)\n",
      "Requirement already satisfied: webencodings in /Users/takumi.saka.mo0107/.pyenv/versions/3.12.1/lib/python3.12/site-packages (from html5lib>=1.1->yfinance->DiversifyApproach_package==0.0.2) (0.5.1)\n",
      "Requirement already satisfied: charset-normalizer<4,>=2 in /Users/takumi.saka.mo0107/.pyenv/versions/3.12.1/lib/python3.12/site-packages (from requests>=2.31->yfinance->DiversifyApproach_package==0.0.2) (3.4.0)\n",
      "Requirement already satisfied: idna<4,>=2.5 in /Users/takumi.saka.mo0107/.pyenv/versions/3.12.1/lib/python3.12/site-packages (from requests>=2.31->yfinance->DiversifyApproach_package==0.0.2) (3.10)\n",
      "Requirement already satisfied: urllib3<3,>=1.21.1 in /Users/takumi.saka.mo0107/.pyenv/versions/3.12.1/lib/python3.12/site-packages (from requests>=2.31->yfinance->DiversifyApproach_package==0.0.2) (2.2.3)\n",
      "Requirement already satisfied: certifi>=2017.4.17 in /Users/takumi.saka.mo0107/.pyenv/versions/3.12.1/lib/python3.12/site-packages (from requests>=2.31->yfinance->DiversifyApproach_package==0.0.2) (2024.8.30)\n"
     ]
    }
   ],
   "source": [
    "# calculate_EXVAL ディレクトリに格納されているクラスをインストール\n",
    "! pip install git+https://github.com/takumi-saka-mo/DEVIRSIFY_Analysis.git\n",
    "from calculate_EXVAL import DiversifyApproach\n",
    "import pandas as pd\n",
    "import matplotlib.pyplot as plt\n",
    "import seaborn as sns"
   ]
  },
  {
   "cell_type": "markdown",
   "metadata": {},
   "source": [
    "### ソフトバンク株式会社\n",
    "\n",
    "**財務データ参照先**<br>\n",
    "https://www.softbank.jp/corp/set/data/ir/documents/financial_reports/fy2023/pdf/sbkk_financial_report_20240509.pdf\n"
   ]
  },
  {
   "cell_type": "code",
   "execution_count": 2,
   "metadata": {},
   "outputs": [
    {
     "data": {
      "text/html": [
       "<div>\n",
       "<style scoped>\n",
       "    .dataframe tbody tr th:only-of-type {\n",
       "        vertical-align: middle;\n",
       "    }\n",
       "\n",
       "    .dataframe tbody tr th {\n",
       "        vertical-align: top;\n",
       "    }\n",
       "\n",
       "    .dataframe thead th {\n",
       "        text-align: right;\n",
       "    }\n",
       "</style>\n",
       "<table border=\"1\" class=\"dataframe\">\n",
       "  <thead>\n",
       "    <tr style=\"text-align: right;\">\n",
       "      <th></th>\n",
       "      <th>Consumer</th>\n",
       "      <th>Enterprise</th>\n",
       "      <th>Distribution</th>\n",
       "      <th>Media</th>\n",
       "      <th>Finance</th>\n",
       "    </tr>\n",
       "    <tr>\n",
       "      <th>Category</th>\n",
       "      <th></th>\n",
       "      <th></th>\n",
       "      <th></th>\n",
       "      <th></th>\n",
       "      <th></th>\n",
       "    </tr>\n",
       "  </thead>\n",
       "  <tbody>\n",
       "    <tr>\n",
       "      <th>Sales</th>\n",
       "      <td>4955</td>\n",
       "      <td>1672</td>\n",
       "      <td>262</td>\n",
       "      <td>1980</td>\n",
       "      <td>-58</td>\n",
       "    </tr>\n",
       "  </tbody>\n",
       "</table>\n",
       "</div>"
      ],
      "text/plain": [
       "          Consumer  Enterprise  Distribution  Media  Finance\n",
       "Category                                                    \n",
       "Sales         4955        1672           262   1980      -58"
      ]
     },
     "execution_count": 2,
     "metadata": {},
     "output_type": "execute_result"
    }
   ],
   "source": [
    "# ソフトバンク株式会社の必要データを準備\n",
    "softbank_data = pd.read_csv(\n",
    "    \"https://raw.githubusercontent.com/takumi-saka-mo/DEVIRSIFY_Analysis/main/data/Softbank_category.csv\",\n",
    "    encoding = \"UTF-8\"\n",
    "    ).set_index(\"Category\")\n",
    "\n",
    "\n",
    "softbank_data"
   ]
  },
  {
   "cell_type": "code",
   "execution_count": 8,
   "metadata": {},
   "outputs": [
    {
     "data": {
      "image/png": "[encoded data removed]",
      "text/plain": [
       "<Figure size 700x600 with 1 Axes>"
      ]
     },
     "metadata": {},
     "output_type": "display_data"
    }
   ],
   "source": [
    "df = softbank_data.T.reset_index()\n",
    "df.columns = [\"Category\", \"Sales\"]\n",
    "plt.figure(figsize=(7, 6))\n",
    "sns.barplot(data = df, x = \"Category\", y = \"Sales\", hue = \"Category\",  palette = \"viridis\")\n",
    "plt.title(\"Softbank Revenue by Segments\")\n",
    "plt.ylabel(\"Revenue (*e6)\")\n",
    "plt.xlabel(\"Category\")\n",
    "plt.xticks(rotation=0)\n",
    "plt.tight_layout()\n",
    "plt.show()"
   ]
  },
  {
   "cell_type": "markdown",
   "metadata": {},
   "source": [
    "### セグメント分類について\n",
    "**参照**\n",
    "<br>https://group.softbank/system/files/pdf/ir/financials/annual_reports/financial-report_fy2024_ja.pdf\n",
    "- コンシューマ<br>\n",
    "(a) モバイルサービス及び携帯端末の販売<br>\n",
    "(b)ブロードバンドサービス<br>\n",
    "(c)でんき<br>\n",
    "- エンタープライズ<br>\n",
    "(a) モバイルサービス及び携帯端末レンタルサービス<br>\n",
    "(b)固定通信サービス(音声伝送サービスおよびデータ伝送サービス)<br>\n",
    "(c)ソリューション等(データセンター、クラウド、セキュリティ、グローバル、AI、IoT、機器販売)<br>\n",
    "- ディストリビューション<br>\n",
    "法人顧客向けのICT、クラウド、IoTソリューション等に対応したハードウエア、ソフトウエア、サービスなどの商材、個人顧客向けのモバイルアクセサリー、PCソフトウエア、IoTプロダクト等の商材の販売\n",
    "- メディア・EC<br>\n",
    "(a) メディア(検索広告、アカウント広告、ディスプレイ広告の収入)<br>\n",
    "(b)コマース(アスクルグループの物品販売サービス、「ZOZOTOWN」や「 Yahoo!オークション」等のEC関連サービスの収入)<br>\n",
    "- ファイナンス<br>\n",
    "主にQRコードによる代金決済サービスの提供により生じる加盟店手数料\n"
   ]
  },
  {
   "cell_type": "code",
   "execution_count": null,
   "metadata": {},
   "outputs": [
    {
     "name": "stdout",
     "output_type": "stream",
     "text": [
      "企業価値: 15929827748800.0\n",
      "超過価値 (EXVAL): 5.943657286040148\n"
     ]
    }
   ],
   "source": [
    "# セグメント値の設定\n",
    "seg1_value = softbank_data[\"Consumer\"].iloc[0] * 1e6 # 単位 : 百万円\n",
    "seg2_value = softbank_data[\"Enterprise\"].iloc[0] * 1e6\n",
    "seg3_value = softbank_data[\"Distribution\"].iloc[0] * 1e6 \n",
    "seg4_value = softbank_data[\"Media\"].iloc[0] * 1e6\n",
    "seg5_value = softbank_data[\"Finance\"].iloc[0] * 1e6\n",
    "\n",
    "seg_list = [seg1_value, seg2_value, seg3_value, seg4_value, seg5_value]\n",
    "\n",
    "# 専業企業リスト\n",
    "Consumer = [\"NFLX\", \"DBX\", \"SPOT\"]\n",
    "Enterprise = [\"HPQ\", \"DELL\", \"LNVGY\"]\n",
    "Distribution = []\n",
    "Media = []\n",
    "Finance = [\"3769.T\", \"4051.T\", \"4072\", \"4689.T\", \"4755.T\", \"4015.T\", \"2428.T\", \"3623.T\"] # GMO-PG, GMO-FG, 電算システム, LINEヤフー, 楽天G, ペイクラウド, ウェルネット, ビリングシステム\n",
    "specialized_tickers = [Consumer, Enterprise, Distribution,Media, Finance]\n",
    "\n",
    "# DiversifyApproach\n",
    "div_approach = DiversifyApproach(\n",
    "    ticker = \"9434.T\", # SoftBank\n",
    "    specialized_tickers = specialized_tickers,\n",
    "    data = softbank_data\n",
    ")\n",
    "\n",
    "# Appleの企業価値の計算\n",
    "value = div_approach.calculate_value()\n",
    "print(f\"企業価値: {value}\")\n",
    "\n",
    "# EXVAL（超過価値）の計算\n",
    "exval = div_approach.calculate_exval(seg_list)\n",
    "print(f\"超過価値 (EXVAL): {exval}\")"
   ]
  },
  {
   "cell_type": "markdown",
   "metadata": {},
   "source": [
    "### 楽天グループ株式会社"
   ]
  },
  {
   "cell_type": "code",
   "execution_count": 6,
   "metadata": {},
   "outputs": [
    {
     "data": {
      "text/html": [
       "<div>\n",
       "<style scoped>\n",
       "    .dataframe tbody tr th:only-of-type {\n",
       "        vertical-align: middle;\n",
       "    }\n",
       "\n",
       "    .dataframe tbody tr th {\n",
       "        vertical-align: top;\n",
       "    }\n",
       "\n",
       "    .dataframe thead th {\n",
       "        text-align: right;\n",
       "    }\n",
       "</style>\n",
       "<table border=\"1\" class=\"dataframe\">\n",
       "  <thead>\n",
       "    <tr style=\"text-align: right;\">\n",
       "      <th></th>\n",
       "      <th>Services</th>\n",
       "      <th>FinTech</th>\n",
       "      <th>Mobile</th>\n",
       "    </tr>\n",
       "    <tr>\n",
       "      <th>Category</th>\n",
       "      <th></th>\n",
       "      <th></th>\n",
       "      <th></th>\n",
       "    </tr>\n",
       "  </thead>\n",
       "  <tbody>\n",
       "    <tr>\n",
       "      <th>Sales</th>\n",
       "      <td>314570</td>\n",
       "      <td>208229</td>\n",
       "      <td>105986</td>\n",
       "    </tr>\n",
       "  </tbody>\n",
       "</table>\n",
       "</div>"
      ],
      "text/plain": [
       "           Services  FinTech  Mobile\n",
       "Category                            \n",
       "Sales        314570   208229  105986"
      ]
     },
     "execution_count": 6,
     "metadata": {},
     "output_type": "execute_result"
    }
   ],
   "source": [
    "# ソフトバンク株式会社の必要データを準備\n",
    "rakuten_data = pd.read_csv(\n",
    "    \"https://raw.githubusercontent.com/takumi-saka-mo/DEVIRSIFY_Analysis/main/data/RAKUTEN.csv\",\n",
    "    encoding = \"UTF-8\"\n",
    "    ).set_index(\"Category\")\n",
    "\n",
    "\n",
    "rakuten_data"
   ]
  },
  {
   "cell_type": "code",
   "execution_count": 7,
   "metadata": {},
   "outputs": [
    {
     "data": {
      "image/png": "[encoded data removed]",
      "text/plain": [
       "<Figure size 700x600 with 1 Axes>"
      ]
     },
     "metadata": {},
     "output_type": "display_data"
    }
   ],
   "source": [
    "df = rakuten_data.T.reset_index()\n",
    "df.columns = [\"Category\", \"Sales\"]\n",
    "plt.figure(figsize=(7, 6))\n",
    "sns.barplot(data = df, x = \"Category\", y = \"Sales\", hue = \"Category\",  palette = \"viridis\")\n",
    "plt.title(\"Ratkuten Revenue by Segments\")\n",
    "plt.ylabel(\"Revenue (*e6)\")\n",
    "plt.xlabel(\"Category\")\n",
    "plt.xticks(rotation=0)\n",
    "plt.tight_layout()\n",
    "plt.show()"
   ]
  },
  {
   "cell_type": "code",
   "execution_count": null,
   "metadata": {},
   "outputs": [],
   "source": []
  }
 ],
 "metadata": {
  "kernelspec": {
   "display_name": "3.12.1",
   "language": "python",
   "name": "python3"
  },
  "language_info": {
   "codemirror_mode": {
    "name": "ipython",
    "version": 3
   },
   "file_extension": ".py",
   "mimetype": "text/x-python",
   "name": "python",
   "nbconvert_exporter": "python",
   "pygments_lexer": "ipython3",
   "version": "3.12.1"
  }
 },
 "nbformat": 4,
 "nbformat_minor": 2
}
