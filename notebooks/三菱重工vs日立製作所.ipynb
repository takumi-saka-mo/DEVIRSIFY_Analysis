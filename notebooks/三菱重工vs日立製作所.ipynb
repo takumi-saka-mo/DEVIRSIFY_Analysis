{
 "cells": [
  {
   "cell_type": "markdown",
   "metadata": {},
   "source": [
    "[![Open In Colab](https://colab.research.google.com/assets/colab-badge.svg)](https://colab.research.google.com/github/takumi-saka-mo/DEVIRSIFY_Analysis/blob/main/notebooks/三菱重工vs日立製作所.ipynb)\n",
    "\n",
    "# 三菱重工 vs 日立製作所\n",
    "\n",
    "三菱重工業株式会社...船舶, 発電プラント, 環境装置, 産業用機械, 航空・宇宙機器, エアコンなどの製造・販売・エンジニアリング<br>\n",
    "株式会社日立製作所...情報通信システム, エネルギー, 産業システム, 都市インフラ, 電子機器, ヘルスケア<br>\n",
    "\n",
    "**2社の比較** <br>\n",
    "三菱重工 : 製造技術に特化, それらの事業間での領域を増やす.<br>\n",
    "日立製作所 : 製造技術に加え, ITサービスの提供を柱とし, 製造からサービス提供までを自社で完結を目指す.<br>\n",
    "<br>"
   ]
  },
  {
   "cell_type": "code",
   "execution_count": null,
   "metadata": {},
   "outputs": [],
   "source": [
    "# calculate_EXVAL ディレクトリに格納されているクラスをインストール\n",
    "! pip install git+https://github.com/takumi-saka-mo/DEVIRSIFY_Analysis.git\n",
    "from calculate_EXVAL import DiversifyApproach\n",
    "import pandas as pd\n",
    "import matplotlib.pyplot as plt\n",
    "import seaborn as sns"
   ]
  },
  {
   "cell_type": "markdown",
   "metadata": {},
   "source": [
    "## 三菱重工\n",
    "**財務データ参照先**<br>\n",
    "https://www.mhi.com/jp/finance/library/result/pdf/fy20234q/kessan_tansin.pdf"
   ]
  },
  {
   "cell_type": "code",
   "execution_count": 3,
   "metadata": {},
   "outputs": [
    {
     "data": {
      "text/html": [
       "<div>\n",
       "<style scoped>\n",
       "    .dataframe tbody tr th:only-of-type {\n",
       "        vertical-align: middle;\n",
       "    }\n",
       "\n",
       "    .dataframe tbody tr th {\n",
       "        vertical-align: top;\n",
       "    }\n",
       "\n",
       "    .dataframe thead th {\n",
       "        text-align: right;\n",
       "    }\n",
       "</style>\n",
       "<table border=\"1\" class=\"dataframe\">\n",
       "  <thead>\n",
       "    <tr style=\"text-align: right;\">\n",
       "      <th></th>\n",
       "      <th>Energy</th>\n",
       "      <th>Infrastructure</th>\n",
       "      <th>Drive Systems</th>\n",
       "      <th>Universe</th>\n",
       "    </tr>\n",
       "    <tr>\n",
       "      <th>Category</th>\n",
       "      <th></th>\n",
       "      <th></th>\n",
       "      <th></th>\n",
       "      <th></th>\n",
       "    </tr>\n",
       "  </thead>\n",
       "  <tbody>\n",
       "    <tr>\n",
       "      <th>Sales</th>\n",
       "      <td>1752569</td>\n",
       "      <td>758730</td>\n",
       "      <td>1310359</td>\n",
       "      <td>790342</td>\n",
       "    </tr>\n",
       "  </tbody>\n",
       "</table>\n",
       "</div>"
      ],
      "text/plain": [
       "           Energy  Infrastructure  Drive Systems  Universe\n",
       "Category                                                  \n",
       "Sales     1752569          758730        1310359    790342"
      ]
     },
     "execution_count": 3,
     "metadata": {},
     "output_type": "execute_result"
    }
   ],
   "source": [
    "# 三菱重工の必要データを準備\n",
    "MHI_data = pd.read_csv(\n",
    "    \"https://raw.githubusercontent.com/takumi-saka-mo/DEVIRSIFY_Analysis/main/data/MHI_category.csv\",\n",
    "    encoding = \"UTF-8\"\n",
    "    ).set_index(\"Category\")\n",
    "\n",
    "\n",
    "MHI_data"
   ]
  },
  {
   "cell_type": "code",
   "execution_count": 4,
   "metadata": {},
   "outputs": [
    {
     "data": {
      "image/png": "[encoded data removed]",
      "text/plain": [
       "<Figure size 700x600 with 1 Axes>"
      ]
     },
     "metadata": {},
     "output_type": "display_data"
    }
   ],
   "source": [
    "df = MHI_data.T.reset_index()\n",
    "df.columns = [\"Category\", \"Sales\"]\n",
    "plt.figure(figsize=(7, 6))\n",
    "sns.barplot(data = df, x = \"Category\", y = \"Sales\", hue = \"Category\",  palette = \"viridis\")\n",
    "plt.title(\"MHI Revenue by Segments\")\n",
    "plt.ylabel(\"Revenue (*e6)\")\n",
    "plt.xlabel(\"Category\")\n",
    "plt.xticks(rotation=0)\n",
    "plt.tight_layout()\n",
    "plt.show()"
   ]
  },
  {
   "cell_type": "markdown",
   "metadata": {},
   "source": [
    "### セグメント分類について\n",
    "**参照**\n",
    "<br>https://www.mhi.com/jp/finance/library/result/pdf/fy20234q/kessan_tansin.pdf\n",
    "- エナジー<br>\n",
    "火力発電, 再生可能エネルギー発電(風力発電プラントetc.), 技術薄膜型太陽電池, 原子力発電,<br> エンジン発電, 燃料電池, 石油・ガス生産, 航空機用エンジン, 舶用エンジン<br>\n",
    "- プラント・インフラ<br>\n",
    "(a) 環境装置(廃棄物処理装置、環境保護装置)<br>\n",
    "(b) プロセスプラント(化学、製鉄プラント)<br>\n",
    "(c) 水処理や上下水道向けインフラ設備<br>\n",
    "- 物流・冷熱・ドライブシステム<br>\n",
    "(a) エレベーター・エスカレーターの設計・販売  \n",
    "(b) 物流向け機器(フォークリフト、クレーンなど)<br> \n",
    "(c) 空調機器(業務用・家庭用エアコン、冷凍機)<br>\n",
    "- 航空・防衛・宇宙<br>\n",
    "(a) 航空機(民間航空機部品、軍用機械)<br>\n",
    "(b) 宇宙機器(ロケット、人工衛星)<br>\n",
    "(c) 防衛関連機器(潜水艦、艦艇、ミサイル)<br>\n",
    "\n"
   ]
  },
  {
   "cell_type": "code",
   "execution_count": 21,
   "metadata": {},
   "outputs": [
    {
     "name": "stdout",
     "output_type": "stream",
     "text": [
      "企業価値: 8825006363904.0\n",
      "超過価値 (EXVAL): 1.0399653575071115\n"
     ]
    }
   ],
   "source": [
    "# セグメント値の設定\n",
    "seg1_value = MHI_data[\"Energy\"].iloc[0] * 1e6 # 単位 : 百万円\n",
    "seg2_value = MHI_data[\"Infrastructure\"].iloc[0] * 1e6\n",
    "seg3_value = MHI_data[\"Drive Systems\"].iloc[0] * 1e6\n",
    "seg4_value = MHI_data[\"Universe\"].iloc[0] * 1e6\n",
    "\n",
    "seg_list = [seg1_value, seg2_value, seg3_value, seg4_value]\n",
    "\n",
    "\n",
    "# 専業企業リスト\n",
    "Energy = [\n",
    "    \"9501.T\",  # 東京電力HD\n",
    "    \"9502.T\",  # 中部電力\n",
    "    \"9503.T\",  # 関西電力\n",
    "    \"9513.T\",  # J-Power\n",
    "    \"9531.T\",  # 東京ガス\n",
    "    \"9532.T\",  # 大阪ガス\n",
    "    \"1605.T\",  # INPEX（石油・天然ガス）\n",
    "    \"1662.T\"   # 石油資源開発\n",
    "    ]\n",
    "\n",
    "\n",
    "Infrastructure = [\n",
    "    \"6501.T\",  # 日立製作所(上下水道向け設備、環境保護装置)\n",
    "    \"6367.T\",  # ダイキン工業(環境制御装置)\n",
    "    \"6326.T\",  # クボタ(水処理装置、上下水道)\n",
    "    \"3101.T\",  # 東洋(上下水道フィルター技術)\n",
    "    \"3402.T\",  # 東レ(膜処理技術、上下水道向け)\n",
    "    \"4004.T\",  # 昭和電工(化学プラント)\n",
    "    \"3407.T\",  # 旭化成(化学プラント)\n",
    "    \"5401.T\",  # 日本製鉄(製鉄プラント)\n",
    "    \"1963.T\",  # 日揮(製鉄)\n",
    "    \"1801.T\",  # 大成建設\n",
    "    \"1802.T\",  # 大林組\n",
    "    \"1803.T\",  # 清水建設\n",
    "    \"1812.T\",  # 鹿島建設（インフラ建設）\n",
    "    \"6333.T\",  # 帝国ピストンリング（環境装置部品）\n",
    "    \"6330.T\",  # 東洋エンジニアリング（プラントエンジニアリング）\n",
    "]\n",
    "\n",
    "Drive_Systems = [\n",
    "    \"6367.T\",  # ダイキン工業（空調）\n",
    "    \"6503.T\",  # 富士電機(空調)\n",
    "    \"6594.T\",  # 日本電産(モーター)\n",
    "    \"7012.T\",  # 川崎重工業(重機)\n",
    "    \"7201.T\",  # 日産自動車(ドライブシステム？)\n",
    "    \"7203.T\",  # トヨタ自動車(フォークリフト)\n",
    "    \"7267.T\",  # ホンダ（自動車エンジン）\n",
    "    \"3105.T\",  # 日清紡HD(自動車部品)\n",
    "    \"6473.T\",   # ジェイテクト(自動車ステアリング)\n",
    "    \"6501.T\",  # 日立製作所(家電)\n",
    "    \"6305.T\",  # 日立建機(重機)\n",
    "    \"6471.T\",  # 日本精工(自動車, 船舶等のメーター)\n",
    "    \"6645.T\",  # オムロン(物流システム)\n",
    "    \"6586.T\"   # マキタ\n",
    "    ]\n",
    "\n",
    "\n",
    "Universe = [\n",
    "    \"7011.T\",  # 三菱重工業\n",
    "    \"7012.T\",  # 川崎重工業(航空・宇宙・防衛)\n",
    "    \"7013.T\",  # IHI(航空エンジン)\n",
    "    \"6752.T\",  # パナソニックHD(宇宙関連機器)\n",
    "    \"7751.T\",  # キヤノン(人工衛星)\n",
    "    \"7752.T\",  # リコー(宇宙関連機器)\n",
    "    \"186A.T\",  # アストロHD(宇宙ゴミ観測衛星)\n",
    "    \"5595.T\",  # QPS研究所(軽量化衛星)\n",
    "    \"9348.T\",  # ispace(月面探査)\n",
    "    ]\n",
    "\n",
    "specialized_tickers = [Energy, Infrastructure, Drive_Systems, Universe]\n",
    "\n",
    "# DiversifyApproach\n",
    "div_approach = DiversifyApproach(\n",
    "    ticker = \"7011.T\", # 三菱重工業株式会社\n",
    "    specialized_tickers = specialized_tickers,\n",
    "    data = MHI_data\n",
    ")\n",
    "\n",
    "# ソフトバンクグループの企業価値の計算\n",
    "value = div_approach.calculate_value()\n",
    "print(f\"企業価値: {value}\")\n",
    "\n",
    "# EXVAL（超過価値）の計算\n",
    "exval = div_approach.calculate_exval(seg_list)\n",
    "print(f\"超過価値 (EXVAL): {exval}\")"
   ]
  },
  {
   "cell_type": "markdown",
   "metadata": {},
   "source": [
    "## 株式会社日立製作所\n",
    "**財務データ参照先**<br>\n",
    "https://www.hitachi.co.jp/New/cnews/month/2024/04/0426/2023_Anpre.pdf"
   ]
  },
  {
   "cell_type": "code",
   "execution_count": 12,
   "metadata": {},
   "outputs": [
    {
     "data": {
      "text/html": [
       "<div>\n",
       "<style scoped>\n",
       "    .dataframe tbody tr th:only-of-type {\n",
       "        vertical-align: middle;\n",
       "    }\n",
       "\n",
       "    .dataframe tbody tr th {\n",
       "        vertical-align: top;\n",
       "    }\n",
       "\n",
       "    .dataframe thead th {\n",
       "        text-align: right;\n",
       "    }\n",
       "</style>\n",
       "<table border=\"1\" class=\"dataframe\">\n",
       "  <thead>\n",
       "    <tr style=\"text-align: right;\">\n",
       "      <th></th>\n",
       "      <th>DSS</th>\n",
       "      <th>GEM</th>\n",
       "      <th>CI</th>\n",
       "    </tr>\n",
       "    <tr>\n",
       "      <th>Category</th>\n",
       "      <th></th>\n",
       "      <th></th>\n",
       "      <th></th>\n",
       "    </tr>\n",
       "  </thead>\n",
       "  <tbody>\n",
       "    <tr>\n",
       "      <th>Sales</th>\n",
       "      <td>25986</td>\n",
       "      <td>30523</td>\n",
       "      <td>30579</td>\n",
       "    </tr>\n",
       "  </tbody>\n",
       "</table>\n",
       "</div>"
      ],
      "text/plain": [
       "            DSS    GEM     CI\n",
       "Category                     \n",
       "Sales     25986  30523  30579"
      ]
     },
     "execution_count": 12,
     "metadata": {},
     "output_type": "execute_result"
    }
   ],
   "source": [
    "# 日立製作所の必要データを準備\n",
    "Hitachi_data = pd.read_csv(\n",
    "    \"https://raw.githubusercontent.com/takumi-saka-mo/DEVIRSIFY_Analysis/main/data/Hitachi_category.csv\",\n",
    "    encoding = \"UTF-8\"\n",
    "    ).set_index(\"Category\")\n",
    "\n",
    "\n",
    "Hitachi_data"
   ]
  },
  {
   "cell_type": "code",
   "execution_count": 13,
   "metadata": {},
   "outputs": [
    {
     "data": {
      "image/png": "[encoded data removed]",
      "text/plain": [
       "<Figure size 700x600 with 1 Axes>"
      ]
     },
     "metadata": {},
     "output_type": "display_data"
    }
   ],
   "source": [
    "df = Hitachi_data.T.reset_index()\n",
    "df.columns = [\"Category\", \"Sales\"]\n",
    "plt.figure(figsize=(7, 6))\n",
    "sns.barplot(data = df, x = \"Category\", y = \"Sales\", hue = \"Category\",  palette = \"viridis\")\n",
    "plt.title(\"Hitachi Revenue by Segments\")\n",
    "plt.ylabel(\"Revenue (*e8)\")\n",
    "plt.xlabel(\"Category\")\n",
    "plt.xticks(rotation=0)\n",
    "plt.tight_layout()\n",
    "plt.show()"
   ]
  },
  {
   "cell_type": "markdown",
   "metadata": {},
   "source": [
    "### セグメント分類について\n",
    "**参照**\n",
    "<br>https://www.hitachi.co.jp/New/cnews/month/2024/04/0426/2023_Anpre.pdf\n",
    "\n",
    "- デジタルシステム・サービス\n",
    "(a) フロントビジネス(金融、公共、エネルギー分野での大口システム更新案件)<br>\n",
    "(b) ITサービス(セキュリティ, クラウド関連. 製造・流通向けサービスやDX, クラウドサービス)<br>\n",
    "-  グリーンエナジー・モビリティ\n",
    "(a) 鉄道事業(鉄道システムや運行管理の提供)<br>\n",
    "(b) 原子力・再生可能エネルギー事業(原子力・風力・太陽光発電など, 再生可能エネルギーの推進)<br>\n",
    "-  コネクティブインダストリーズ\n",
    "(a) ビルシステム(新設エレベータ等)<br>\n",
    "(b) 計測分析システム(生化学免疫自動分析装置, 半導体製造装置)<br>\n",
    "(c) 空調システム(半導体・電子向け空調システム)<br>"
   ]
  },
  {
   "cell_type": "code",
   "execution_count": 23,
   "metadata": {},
   "outputs": [
    {
     "name": "stdout",
     "output_type": "stream",
     "text": [
      "企業価値: 19470022789504.0\n",
      "超過価値 (EXVAL): 0.5759505601095279\n"
     ]
    }
   ],
   "source": [
    "# セグメント値の設定\n",
    "seg1_value = Hitachi_data[\"DSS\"].iloc[0] * 1e8 # 単位 : 億円\n",
    "seg2_value = Hitachi_data[\"GEM\"].iloc[0] * 1e8\n",
    "seg3_value = Hitachi_data[\"CI\"].iloc[0] * 1e8\n",
    "\n",
    "seg_list = [seg1_value, seg2_value, seg3_value]\n",
    "\n",
    "# 専業企業リスト\n",
    "DSS = [\n",
    "    \"4307.T\",  # 野村総研\n",
    "    \"6701.T\",  # NEC\n",
    "    \"6758.T\",  # ソニーG\n",
    "    \"4768.T\",  # 大塚商会\n",
    "    \"9984.T\",  # ソフトバンク（クラウド・セキュリティ）\n",
    "    \"2327.T\",  # 日鉄ソリュ\n",
    "    \"4689.T\",  # Zホールディングス(LINEヤフー)\n",
    "    \"8056.T\",  # BIPROGY\n",
    "    \"4704.T\",  # トレンドマイクロ（セキュリティ）\n",
    "    \"9984.T\",  # ソフトバンク\n",
    "    \"9432.T\",  # NTT\n",
    "    ]\n",
    "\n",
    "GEM = [\n",
    "    \"6501.T\",  # 日立製作所（鉄道、原子力・再生可能エネルギー）\n",
    "    \"7011.T\",  # 三菱重工業（エネルギー関連事業）\n",
    "    \"9513.T\",  # J-POWER（電力、再生可能エネルギー）\n",
    "    \"9531.T\",  # 東京ガス（再生可能エネルギー）\n",
    "    \"9532.T\",  # 大阪ガス（エネルギー供給）\n",
    "    \"1605.T\",  # INPEX（石油・天然ガス）\n",
    "    \"7203.T\",  # トヨタ自動車（水素エネルギー、モビリティ）\n",
    "    \"6301.T\",   # コマツ（建設機械、持続可能技術）\n",
    "    ]\n",
    "\n",
    "CI = [\n",
    "    \"6501.T\",  # 日立製作所（ビルシステム）\n",
    "    \"6367.T\",  # ダイキン工業（空調システム、冷凍機）\n",
    "    \"6326.T\",  # クボタ（農業機械、水処理設備）\n",
    "    \"1963.T\",  # 日揮（プラントエンジニアリング）\n",
    "    \"4519.T\"   # 中外製薬（診断機器・医療分析システム）\n",
    "    ]\n",
    "\n",
    "specialized_tickers = [DSS, GEM, CI]\n",
    "\n",
    "# DiversifyApproach\n",
    "div_approach = DiversifyApproach(\n",
    "    ticker = \"6501.T\", # 株式会社日立製作所\n",
    "    specialized_tickers = specialized_tickers,\n",
    "    data = Hitachi_data\n",
    ")\n",
    "\n",
    "# ソフトバンクグループの企業価値の計算\n",
    "value = div_approach.calculate_value()\n",
    "print(f\"企業価値: {value}\")\n",
    "\n",
    "# EXVAL（超過価値）の計算\n",
    "exval = div_approach.calculate_exval(seg_list)\n",
    "print(f\"超過価値 (EXVAL): {exval}\")"
   ]
  }
 ],
 "metadata": {
  "kernelspec": {
   "display_name": "3.12.1",
   "language": "python",
   "name": "python3"
  },
  "language_info": {
   "codemirror_mode": {
    "name": "ipython",
    "version": 3
   },
   "file_extension": ".py",
   "mimetype": "text/x-python",
   "name": "python",
   "nbconvert_exporter": "python",
   "pygments_lexer": "ipython3",
   "version": "3.12.1"
  }
 },
 "nbformat": 4,
 "nbformat_minor": 2
}
