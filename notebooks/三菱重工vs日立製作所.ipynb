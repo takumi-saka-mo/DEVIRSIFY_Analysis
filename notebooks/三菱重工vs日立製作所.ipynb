{
 "cells": [
  {
   "cell_type": "markdown",
   "metadata": {},
   "source": [
    "[![Open In Colab](https://colab.research.google.com/assets/colab-badge.svg)](https://colab.research.google.com/github/takumi-saka-mo/DEVIRSIFY_Analysis/blob/main/notebooks/三菱重工vs日立製作所.ipynb)\n",
    "\n",
    "# 三菱重工 vs 日立製作所\n",
    "\n",
    "三菱重工業株式会社...移動通信サービスの提供、携帯端末の販売、固定通信サービスの提供、インターネット接続サービスの提供<br>\n",
    "株式会社日立製作所...ECサイト, インベストメント, フィンテック<br>\n",
    "\n",
    "\n",
    "\n"
   ]
  },
  {
   "cell_type": "code",
   "execution_count": null,
   "metadata": {
    "vscode": {
     "languageId": "plaintext"
    }
   },
   "outputs": [],
   "source": []
  }
 ],
 "metadata": {
  "language_info": {
   "name": "python"
  }
 },
 "nbformat": 4,
 "nbformat_minor": 2
}
