{
 "cells": [
  {
   "cell_type": "markdown",
   "metadata": {},
   "source": [
    "# 日本企業 vs 外資系企業の国籍比較分析\n",
    "\n",
    "- 日本 : 楽天, ソフトバンク\n",
    "- 海外 : Google, Amazon\n",
    "\n",
    "**目的**<br>\n",
    "国籍の違いが, 企業価値や各事業の超過価値にどのような影響を与えるかを分析する\n",
    "\n",
    "\n",
    "[ソフトバンクグループ]<br>\n",
    "→移動通信サービスの提供、携帯端末の販売、固定通信サービスの提供、インターネット接続サービスの提供<br>\n",
    "\n",
    "[楽天グループ]<br>\n",
    "→ECサイト, インベストメント, フィンテック<br>"
   ]
  },
  {
   "cell_type": "code",
   "execution_count": null,
   "metadata": {},
   "outputs": [],
   "source": []
  },
  {
   "cell_type": "markdown",
   "metadata": {},
   "source": [
    "https://jp.stanby.com/magazine/entry/2300054"
   ]
  }
 ],
 "metadata": {
  "kernelspec": {
   "display_name": "3.12.1",
   "language": "python",
   "name": "python3"
  },
  "language_info": {
   "codemirror_mode": {
    "name": "ipython",
    "version": 3
   },
   "file_extension": ".py",
   "mimetype": "text/x-python",
   "name": "python",
   "nbconvert_exporter": "python",
   "pygments_lexer": "ipython3",
   "version": "3.12.1"
  }
 },
 "nbformat": 4,
 "nbformat_minor": 2
}
