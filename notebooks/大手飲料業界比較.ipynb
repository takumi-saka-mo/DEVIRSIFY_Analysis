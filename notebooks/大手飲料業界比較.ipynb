{
 "cells": [
  {
   "cell_type": "markdown",
   "metadata": {},
   "source": [
    "[![Open In Colab](https://colab.research.google.com/assets/colab-badge.svg)](https://colab.research.google.com/github/takumi-saka-mo/DEVIRSIFY_Analysis/blob/main/notebooks/大手飲料業界比較.ipynb)\n",
    "\n",
    "# キリン, アサヒ, サッポロ, コカ・コーラボトラーズジャパン, ダイドーグループHD\n",
    "\n",
    "キリン... 食領域に加え, ヘルスサイエンスや医領域への展開も進めている. (海外市場への進出)<br>\n",
    "サッポロ...  酒類(アジア・カナダ・アメリカ), 食料飲料事業(国内のみにとどまる), 不動産事業<br>\n",
    "コカ・コーラボトラーズジャパン...飲料製品のみの製造・販売を主に行う. また単一セグメント(飲料事業のみ)<br>\n",
    "ダイドーグループHD... 自動販売機を基盤とした飲料事業が主力. 食品・医薬品事業も展開。特に健康志向の製品にも. (海外進出はアジアに限る)<br>\n",
    "\n",
    "\n",
    "**※サントリー, アサヒはセグメント分類が地域ごとの分類のため除外**\n"
   ]
  },
  {
   "cell_type": "code",
   "execution_count": 1,
   "metadata": {},
   "outputs": [
    {
     "name": "stdout",
     "output_type": "stream",
     "text": [
      "Collecting git+https://github.com/takumi-saka-mo/DEVIRSIFY_Analysis.git\n",
      "  Cloning https://github.com/takumi-saka-mo/DEVIRSIFY_Analysis.git to /private/var/folders/g_/z45jvr095xx_y26gdztl1fbc0000gn/T/pip-req-build-yq7w7x_5\n",
      "  Running command git clone --filter=blob:none --quiet https://github.com/takumi-saka-mo/DEVIRSIFY_Analysis.git /private/var/folders/g_/z45jvr095xx_y26gdztl1fbc0000gn/T/pip-req-build-yq7w7x_5\n",
      "  Resolved https://github.com/takumi-saka-mo/DEVIRSIFY_Analysis.git to commit d127f88e7df3bc8212603757a0d627a69e7dbfb8\n",
      "  Preparing metadata (setup.py) ... \u001b[?25ldone\n",
      "\u001b[?25hRequirement already satisfied: pandas in /Users/takumi.saka.mo0107/.pyenv/versions/3.12.1/lib/python3.12/site-packages (from DiversifyApproach_package==0.0.2) (2.2.3)\n",
      "Requirement already satisfied: numpy in /Users/takumi.saka.mo0107/.pyenv/versions/3.12.1/lib/python3.12/site-packages (from DiversifyApproach_package==0.0.2) (2.1.3)\n",
      "Requirement already satisfied: yfinance in /Users/takumi.saka.mo0107/.pyenv/versions/3.12.1/lib/python3.12/site-packages (from DiversifyApproach_package==0.0.2) (0.2.50)\n",
      "Requirement already satisfied: python-dateutil>=2.8.2 in /Users/takumi.saka.mo0107/.pyenv/versions/3.12.1/lib/python3.12/site-packages (from pandas->DiversifyApproach_package==0.0.2) (2.9.0.post0)\n",
      "Requirement already satisfied: pytz>=2020.1 in /Users/takumi.saka.mo0107/.pyenv/versions/3.12.1/lib/python3.12/site-packages (from pandas->DiversifyApproach_package==0.0.2) (2024.2)\n",
      "Requirement already satisfied: tzdata>=2022.7 in /Users/takumi.saka.mo0107/.pyenv/versions/3.12.1/lib/python3.12/site-packages (from pandas->DiversifyApproach_package==0.0.2) (2024.2)\n",
      "Requirement already satisfied: requests>=2.31 in /Users/takumi.saka.mo0107/.pyenv/versions/3.12.1/lib/python3.12/site-packages (from yfinance->DiversifyApproach_package==0.0.2) (2.32.3)\n",
      "Requirement already satisfied: multitasking>=0.0.7 in /Users/takumi.saka.mo0107/.pyenv/versions/3.12.1/lib/python3.12/site-packages (from yfinance->DiversifyApproach_package==0.0.2) (0.0.11)\n",
      "Requirement already satisfied: lxml>=4.9.1 in /Users/takumi.saka.mo0107/.pyenv/versions/3.12.1/lib/python3.12/site-packages (from yfinance->DiversifyApproach_package==0.0.2) (5.3.0)\n",
      "Requirement already satisfied: platformdirs>=2.0.0 in /Users/takumi.saka.mo0107/.pyenv/versions/3.12.1/lib/python3.12/site-packages (from yfinance->DiversifyApproach_package==0.0.2) (4.3.6)\n",
      "Requirement already satisfied: frozendict>=2.3.4 in /Users/takumi.saka.mo0107/.pyenv/versions/3.12.1/lib/python3.12/site-packages (from yfinance->DiversifyApproach_package==0.0.2) (2.4.6)\n",
      "Requirement already satisfied: peewee>=3.16.2 in /Users/takumi.saka.mo0107/.pyenv/versions/3.12.1/lib/python3.12/site-packages (from yfinance->DiversifyApproach_package==0.0.2) (3.17.8)\n",
      "Requirement already satisfied: beautifulsoup4>=4.11.1 in /Users/takumi.saka.mo0107/.pyenv/versions/3.12.1/lib/python3.12/site-packages (from yfinance->DiversifyApproach_package==0.0.2) (4.12.3)\n",
      "Requirement already satisfied: html5lib>=1.1 in /Users/takumi.saka.mo0107/.pyenv/versions/3.12.1/lib/python3.12/site-packages (from yfinance->DiversifyApproach_package==0.0.2) (1.1)\n",
      "Requirement already satisfied: soupsieve>1.2 in /Users/takumi.saka.mo0107/.pyenv/versions/3.12.1/lib/python3.12/site-packages (from beautifulsoup4>=4.11.1->yfinance->DiversifyApproach_package==0.0.2) (2.6)\n",
      "Requirement already satisfied: six>=1.9 in /Users/takumi.saka.mo0107/.pyenv/versions/3.12.1/lib/python3.12/site-packages (from html5lib>=1.1->yfinance->DiversifyApproach_package==0.0.2) (1.16.0)\n",
      "Requirement already satisfied: webencodings in /Users/takumi.saka.mo0107/.pyenv/versions/3.12.1/lib/python3.12/site-packages (from html5lib>=1.1->yfinance->DiversifyApproach_package==0.0.2) (0.5.1)\n",
      "Requirement already satisfied: charset-normalizer<4,>=2 in /Users/takumi.saka.mo0107/.pyenv/versions/3.12.1/lib/python3.12/site-packages (from requests>=2.31->yfinance->DiversifyApproach_package==0.0.2) (3.4.0)\n",
      "Requirement already satisfied: idna<4,>=2.5 in /Users/takumi.saka.mo0107/.pyenv/versions/3.12.1/lib/python3.12/site-packages (from requests>=2.31->yfinance->DiversifyApproach_package==0.0.2) (3.10)\n",
      "Requirement already satisfied: urllib3<3,>=1.21.1 in /Users/takumi.saka.mo0107/.pyenv/versions/3.12.1/lib/python3.12/site-packages (from requests>=2.31->yfinance->DiversifyApproach_package==0.0.2) (2.2.3)\n",
      "Requirement already satisfied: certifi>=2017.4.17 in /Users/takumi.saka.mo0107/.pyenv/versions/3.12.1/lib/python3.12/site-packages (from requests>=2.31->yfinance->DiversifyApproach_package==0.0.2) (2024.8.30)\n"
     ]
    }
   ],
   "source": [
    "# calculate_EXVAL ディレクトリに格納されているクラスをインストール\n",
    "! pip install git+https://github.com/takumi-saka-mo/DEVIRSIFY_Analysis.git\n",
    "from calculate_EXVAL import DiversifyApproach\n",
    "import pandas as pd\n",
    "import matplotlib.pyplot as plt\n",
    "import seaborn as sns"
   ]
  },
  {
   "cell_type": "markdown",
   "metadata": {},
   "source": [
    "## キリンホールディングス株式会社\n",
    "\n",
    "「国内ビール・スピリッツ事業」<br>「国内飲料事業」<br>「オセアニア酒類事業」<br>「医薬事業」<br>\n",
    "**財務データ参照先**<br>\n",
    "https://pdf.irpocket.com/C2503/KKjE/FmbB/foHF.pdf"
   ]
  },
  {
   "cell_type": "code",
   "execution_count": null,
   "metadata": {},
   "outputs": [],
   "source": []
  }
 ],
 "metadata": {
  "kernelspec": {
   "display_name": "3.12.1",
   "language": "python",
   "name": "python3"
  },
  "language_info": {
   "codemirror_mode": {
    "name": "ipython",
    "version": 3
   },
   "file_extension": ".py",
   "mimetype": "text/x-python",
   "name": "python",
   "nbconvert_exporter": "python",
   "pygments_lexer": "ipython3",
   "version": "3.12.1"
  }
 },
 "nbformat": 4,
 "nbformat_minor": 2
}
