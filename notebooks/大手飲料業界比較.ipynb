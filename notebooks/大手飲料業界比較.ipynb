{
 "cells": [
  {
   "cell_type": "markdown",
   "metadata": {},
   "source": [
    "[![Open In Colab](https://colab.research.google.com/assets/colab-badge.svg)](https://colab.research.google.com/github/takumi-saka-mo/DEVIRSIFY_Analysis/blob/main/notebooks/大手飲料業界比較.ipynb)\n",
    "\n",
    "# キリン, アサヒ, サッポロ, コカ・コーラボトラーズジャパン, ダイドーグループHD\n",
    "\n",
    "キリン... 食領域に加え, ヘルスサイエンスや医領域への展開も進めている. (海外市場への進出)<br>\n",
    "サッポロ...  酒類(アジア・カナダ・アメリカ), 食料飲料事業(国内のみにとどまる), 不動産事業<br>\n",
    "コカ・コーラボトラーズジャパン...飲料製品のみの製造・販売を主に行う. また単一セグメント(飲料事業のみ)<br>\n",
    "ダイドーグループHD... 自動販売機を基盤とした飲料事業が主力. 食品・医薬品事業も展開。特に健康志向の製品にも. (海外進出はアジアに限る)<br>\n",
    "\n",
    "\n",
    "**※サントリー, アサヒはセグメント分類が地域ごとの分類のため除外**\n"
   ]
  },
  {
   "cell_type": "code",
   "execution_count": 1,
   "metadata": {},
   "outputs": [
    {
     "name": "stdout",
     "output_type": "stream",
     "text": [
      "Collecting git+https://github.com/takumi-saka-mo/DEVIRSIFY_Analysis.git\n",
      "  Cloning https://github.com/takumi-saka-mo/DEVIRSIFY_Analysis.git to /private/var/folders/g_/z45jvr095xx_y26gdztl1fbc0000gn/T/pip-req-build-ksos0gyd\n",
      "  Running command git clone --filter=blob:none --quiet https://github.com/takumi-saka-mo/DEVIRSIFY_Analysis.git /private/var/folders/g_/z45jvr095xx_y26gdztl1fbc0000gn/T/pip-req-build-ksos0gyd\n",
      "  Resolved https://github.com/takumi-saka-mo/DEVIRSIFY_Analysis.git to commit 11019e20f93741e4afc2ed5237d9ba861b872ac6\n",
      "  Preparing metadata (setup.py) ... \u001b[?25ldone\n",
      "\u001b[?25hRequirement already satisfied: pandas in /Users/takumi.saka.mo0107/.pyenv/versions/3.12.1/lib/python3.12/site-packages (from DiversifyApproach_package==0.0.2) (2.2.3)\n",
      "Requirement already satisfied: numpy in /Users/takumi.saka.mo0107/.pyenv/versions/3.12.1/lib/python3.12/site-packages (from DiversifyApproach_package==0.0.2) (2.1.3)\n",
      "Requirement already satisfied: yfinance in /Users/takumi.saka.mo0107/.pyenv/versions/3.12.1/lib/python3.12/site-packages (from DiversifyApproach_package==0.0.2) (0.2.50)\n",
      "Requirement already satisfied: python-dateutil>=2.8.2 in /Users/takumi.saka.mo0107/.pyenv/versions/3.12.1/lib/python3.12/site-packages (from pandas->DiversifyApproach_package==0.0.2) (2.9.0.post0)\n",
      "Requirement already satisfied: pytz>=2020.1 in /Users/takumi.saka.mo0107/.pyenv/versions/3.12.1/lib/python3.12/site-packages (from pandas->DiversifyApproach_package==0.0.2) (2024.2)\n",
      "Requirement already satisfied: tzdata>=2022.7 in /Users/takumi.saka.mo0107/.pyenv/versions/3.12.1/lib/python3.12/site-packages (from pandas->DiversifyApproach_package==0.0.2) (2024.2)\n",
      "Requirement already satisfied: requests>=2.31 in /Users/takumi.saka.mo0107/.pyenv/versions/3.12.1/lib/python3.12/site-packages (from yfinance->DiversifyApproach_package==0.0.2) (2.32.3)\n",
      "Requirement already satisfied: multitasking>=0.0.7 in /Users/takumi.saka.mo0107/.pyenv/versions/3.12.1/lib/python3.12/site-packages (from yfinance->DiversifyApproach_package==0.0.2) (0.0.11)\n",
      "Requirement already satisfied: lxml>=4.9.1 in /Users/takumi.saka.mo0107/.pyenv/versions/3.12.1/lib/python3.12/site-packages (from yfinance->DiversifyApproach_package==0.0.2) (5.3.0)\n",
      "Requirement already satisfied: platformdirs>=2.0.0 in /Users/takumi.saka.mo0107/.pyenv/versions/3.12.1/lib/python3.12/site-packages (from yfinance->DiversifyApproach_package==0.0.2) (4.3.6)\n",
      "Requirement already satisfied: frozendict>=2.3.4 in /Users/takumi.saka.mo0107/.pyenv/versions/3.12.1/lib/python3.12/site-packages (from yfinance->DiversifyApproach_package==0.0.2) (2.4.6)\n",
      "Requirement already satisfied: peewee>=3.16.2 in /Users/takumi.saka.mo0107/.pyenv/versions/3.12.1/lib/python3.12/site-packages (from yfinance->DiversifyApproach_package==0.0.2) (3.17.8)\n",
      "Requirement already satisfied: beautifulsoup4>=4.11.1 in /Users/takumi.saka.mo0107/.pyenv/versions/3.12.1/lib/python3.12/site-packages (from yfinance->DiversifyApproach_package==0.0.2) (4.12.3)\n",
      "Requirement already satisfied: html5lib>=1.1 in /Users/takumi.saka.mo0107/.pyenv/versions/3.12.1/lib/python3.12/site-packages (from yfinance->DiversifyApproach_package==0.0.2) (1.1)\n",
      "Requirement already satisfied: soupsieve>1.2 in /Users/takumi.saka.mo0107/.pyenv/versions/3.12.1/lib/python3.12/site-packages (from beautifulsoup4>=4.11.1->yfinance->DiversifyApproach_package==0.0.2) (2.6)\n",
      "Requirement already satisfied: six>=1.9 in /Users/takumi.saka.mo0107/.pyenv/versions/3.12.1/lib/python3.12/site-packages (from html5lib>=1.1->yfinance->DiversifyApproach_package==0.0.2) (1.16.0)\n",
      "Requirement already satisfied: webencodings in /Users/takumi.saka.mo0107/.pyenv/versions/3.12.1/lib/python3.12/site-packages (from html5lib>=1.1->yfinance->DiversifyApproach_package==0.0.2) (0.5.1)\n",
      "Requirement already satisfied: charset-normalizer<4,>=2 in /Users/takumi.saka.mo0107/.pyenv/versions/3.12.1/lib/python3.12/site-packages (from requests>=2.31->yfinance->DiversifyApproach_package==0.0.2) (3.4.0)\n",
      "Requirement already satisfied: idna<4,>=2.5 in /Users/takumi.saka.mo0107/.pyenv/versions/3.12.1/lib/python3.12/site-packages (from requests>=2.31->yfinance->DiversifyApproach_package==0.0.2) (3.10)\n",
      "Requirement already satisfied: urllib3<3,>=1.21.1 in /Users/takumi.saka.mo0107/.pyenv/versions/3.12.1/lib/python3.12/site-packages (from requests>=2.31->yfinance->DiversifyApproach_package==0.0.2) (2.2.3)\n",
      "Requirement already satisfied: certifi>=2017.4.17 in /Users/takumi.saka.mo0107/.pyenv/versions/3.12.1/lib/python3.12/site-packages (from requests>=2.31->yfinance->DiversifyApproach_package==0.0.2) (2024.8.30)\n"
     ]
    }
   ],
   "source": [
    "# calculate_EXVAL ディレクトリに格納されているクラスをインストール\n",
    "! pip install git+https://github.com/takumi-saka-mo/DEVIRSIFY_Analysis.git\n",
    "from calculate_EXVAL import DiversifyApproach\n",
    "import pandas as pd\n",
    "import matplotlib.pyplot as plt\n",
    "import seaborn as sns"
   ]
  },
  {
   "cell_type": "markdown",
   "metadata": {},
   "source": [
    "## キリンホールディングス株式会社\n",
    "\n",
    "「国内ビール・スピリッツ事業」<br>「国内飲料事業」<br>「オセアニア酒類事業」<br>「医薬事業」<br>\n",
    "**財務データ参照先**<br>\n",
    "https://pdf.irpocket.com/C2503/KKjE/FmbB/foHF.pdf"
   ]
  },
  {
   "cell_type": "code",
   "execution_count": 2,
   "metadata": {},
   "outputs": [
    {
     "data": {
      "text/html": [
       "<div>\n",
       "<style scoped>\n",
       "    .dataframe tbody tr th:only-of-type {\n",
       "        vertical-align: middle;\n",
       "    }\n",
       "\n",
       "    .dataframe tbody tr th {\n",
       "        vertical-align: top;\n",
       "    }\n",
       "\n",
       "    .dataframe thead th {\n",
       "        text-align: right;\n",
       "    }\n",
       "</style>\n",
       "<table border=\"1\" class=\"dataframe\">\n",
       "  <thead>\n",
       "    <tr style=\"text-align: right;\">\n",
       "      <th></th>\n",
       "      <th>Dom_Beer</th>\n",
       "      <th>Dom_Beverage</th>\n",
       "      <th>GLB_Alc</th>\n",
       "      <th>Medicine</th>\n",
       "    </tr>\n",
       "    <tr>\n",
       "      <th>Category</th>\n",
       "      <th></th>\n",
       "      <th></th>\n",
       "      <th></th>\n",
       "      <th></th>\n",
       "    </tr>\n",
       "  </thead>\n",
       "  <tbody>\n",
       "    <tr>\n",
       "      <th>Sales</th>\n",
       "      <td>687010</td>\n",
       "      <td>257799</td>\n",
       "      <td>281077</td>\n",
       "      <td>442233</td>\n",
       "    </tr>\n",
       "  </tbody>\n",
       "</table>\n",
       "</div>"
      ],
      "text/plain": [
       "           Dom_Beer  Dom_Beverage  GLB_Alc  Medicine\n",
       "Category                                            \n",
       "Sales        687010        257799   281077    442233"
      ]
     },
     "execution_count": 2,
     "metadata": {},
     "output_type": "execute_result"
    }
   ],
   "source": [
    "# キリンHD株式会社の必要データを準備\n",
    "KIRIN_data = pd.read_csv(\n",
    "    \"https://raw.githubusercontent.com/takumi-saka-mo/DEVIRSIFY_Analysis/main/data/KIRIN_category.csv\",\n",
    "    encoding = \"UTF-8\"\n",
    "    ).set_index(\"Category \")\n",
    "\n",
    "\n",
    "KIRIN_data"
   ]
  },
  {
   "cell_type": "code",
   "execution_count": 3,
   "metadata": {},
   "outputs": [
    {
     "data": {
      "image/png": "[encoded data removed]",
      "text/plain": [
       "<Figure size 700x600 with 1 Axes>"
      ]
     },
     "metadata": {},
     "output_type": "display_data"
    }
   ],
   "source": [
    "df = KIRIN_data.T.reset_index()\n",
    "df.columns = [\"Category\", \"Sales\"]\n",
    "plt.figure(figsize=(7, 6))\n",
    "sns.barplot(data = df, x = \"Category\", y = \"Sales\", hue = \"Category\",  palette = \"viridis\")\n",
    "plt.title(\"KIRIN Revenue by Segments\")\n",
    "plt.ylabel(\"Revenue (*e6)\")\n",
    "plt.xlabel(\"Category\")\n",
    "plt.xticks(rotation=0)\n",
    "plt.tight_layout()\n",
    "plt.show()"
   ]
  },
  {
   "cell_type": "markdown",
   "metadata": {},
   "source": [
    "### セグメント分類について\n",
    "**参照**\n",
    "<br>https://pdf.irpocket.com/C2503/KKjE/FmbB/foHF.pdf<br>\n",
    "(p24を参照)\n",
    "- 国内ビール・スピリッツ事業<br>\n",
    "キリンビール㈱を統括会社として日本におけるビール、発泡酒、新ジャンル、洋酒他酒類製品の製造・販売<br>\n",
    "- 国内飲料事業<br>\n",
    "キリンビバレッジ㈱を統括会社として日本における清涼飲料の製造・販売<br>\n",
    "- オセアニア種類事業<br>\n",
    "LION PTY LTDを統括会社としてオセアニア地域等におけるビール, 洋酒等の製造・販売<br>\n",
    "- 医薬事業<br>\n",
    "協和キリン㈱を統括会社とし, 医薬品の製造・販売<br>\n"
   ]
  },
  {
   "cell_type": "code",
   "execution_count": 27,
   "metadata": {},
   "outputs": [
    {
     "name": "stdout",
     "output_type": "stream",
     "text": [
      "企業価値: 2207580594048.0\n",
      "超過価値 (EXVAL): 0.2148188446649298\n"
     ]
    }
   ],
   "source": [
    "# セグメント値の設定\n",
    "seg1_value = KIRIN_data[\"Dom_Beer\"].iloc[0] * 1e6 # 単位 : 百万円\n",
    "seg2_value = KIRIN_data[\"Dom_Beverage\"].iloc[0] * 1e6\n",
    "seg3_value = KIRIN_data[\"GLB_Alc\"].iloc[0] * 1e6\n",
    "seg4_value = KIRIN_data[\"Medicine\"].iloc[0] * 1e6\n",
    "\n",
    "seg_list = [seg1_value, seg2_value, seg3_value, seg4_value]\n",
    "\n",
    "# 専業企業リスト\n",
    "Dom_Beer = [\n",
    "  \"2502.T\", # アサヒグループHD\n",
    "  \"2503.T\", # キリンHD\n",
    "  \"2587.T\", # サントリー食品インターナショナル\n",
    "  \"2501.T\", # サッポロHD\n",
    "  \"2531.T\", #宝HD\n",
    "  \"2533.T\", # オエノンHD\n",
    "]\n",
    "\n",
    "Dom_Beverage = [\n",
    "  \"2502.T\", # アサヒグループHD\n",
    "  \"2503.T\", # キリンHD\n",
    "  \"2587.T\", # サントリー食品インターナショナル\n",
    "  \"2501.T\", # サッポロHD\n",
    "  \"2579.T\", # コカ・コーラボトラーズジャパンHD\n",
    "  \"2593.T\", # 伊藤園\n",
    "  \"2811.T\", # カゴメ\n",
    "  \"2585.T\", # ライフドリンクカンパニー\n",
    "  \"2590.T\", # ダイドーグループHD\n",
    "  \"2594.T\", # キーコーヒー\n",
    "  \"2573.T\", # 北海道コカ・コーラボトリング\n",
    "  \"2597.T\", # ユニカフェ\n",
    "]\n",
    "\n",
    "\n",
    "GLB_Alc = [\n",
    "    \"2502.T\",  # アサヒグループHD - 欧州・アジア・オセアニアで積極展開\n",
    "    \"2503.T\",  # キリンHD - アジアを中心に展開\n",
    "    \"2587.T\",  # サントリー食品インターナショナル - 世界中でプレミアムブランド展開\n",
    "    \"2501.T\",  # サッポロHD - 北米・アジア市場でのビール事業強化\n",
    "    \"2914.T\",  # 日本たばこ産業（JT） - 海外で蒸留酒ブランドを展開\n",
    "    \"2229.T\",  # カルビー - アジアで酒類とのペアリング需要に対応\n",
    "    \"2531.T\",  # 宝ホールディングス - 焼酎や清酒を海外へ輸出\n",
    "    \"2579.T\",  # コカ・コーラボトラーズジャパンHD - アルコール飲料参入（特にRTD）\n",
    "    \"2264.T\",  # 森永乳業 - 海外でアルコール入りデザートの展開\n",
    "]\n",
    "\n",
    "Medicine = [\n",
    "    \"4502.T\",  # 武田薬品工業\n",
    "    \"4503.T\",  # アステラス製薬\n",
    "    \"4507.T\",  # 塩野義製薬\n",
    "    \"4519.T\",  # 中外製薬\n",
    "    \"4523.T\",  # エーザイ\n",
    "    \"4578.T\",  # 大塚ホールディングス\n",
    "    \"4536.T\",  # 参天製薬\n",
    "    \"4568.T\",  # 第一三共\n",
    "    \"4528.T\",  # 小野薬品工業\n",
    "    \"4530.T\",  # 久光製薬\n",
    "    \"4555.T\",  # 沢井製薬\n",
    "    \"4516.T\",  # 日本新薬\n",
    "    \"4541.T\",  # 日医工\n",
    "]\n",
    "\n",
    "\n",
    "specialized_tickers = [Dom_Beer, Dom_Beverage, GLB_Alc, Medicine]\n",
    "\n",
    "# DiversifyApproach\n",
    "div_approach = DiversifyApproach(\n",
    "    ticker = \"2503.T\", # キリンHD株式会社\n",
    "    specialized_tickers = specialized_tickers,\n",
    "    data = KIRIN_data\n",
    ")\n",
    "\n",
    "# キリンホールディングス株式会社の企業価値の計算\n",
    "value = div_approach.calculate_value()\n",
    "print(f\"企業価値: {value}\")\n",
    "\n",
    "# EXVAL（超過価値）の計算\n",
    "exval = div_approach.calculate_exval(seg_list)\n",
    "print(f\"超過価値 (EXVAL): {exval}\")"
   ]
  },
  {
   "cell_type": "markdown",
   "metadata": {},
   "source": [
    "## サッポロホールディングス株式会社\n",
    "\n",
    "酒類事業 : 酒類の製造・販売、各種業態の飲食店の経営等<br>食品飲料事業 : 食品・飲料水の製造・販売等<br>不動産事業 : 不動産賃貸等\n",
    "\n",
    "**財務データ参照先**<br>\n",
    "https://www.sapporoholdings.jp/ir/library/brief/items/2023__12_tanshin.pdf<br>\n",
    "(p.18)"
   ]
  },
  {
   "cell_type": "code",
   "execution_count": 28,
   "metadata": {},
   "outputs": [
    {
     "data": {
      "text/html": [
       "<div>\n",
       "<style scoped>\n",
       "    .dataframe tbody tr th:only-of-type {\n",
       "        vertical-align: middle;\n",
       "    }\n",
       "\n",
       "    .dataframe tbody tr th {\n",
       "        vertical-align: top;\n",
       "    }\n",
       "\n",
       "    .dataframe thead th {\n",
       "        text-align: right;\n",
       "    }\n",
       "</style>\n",
       "<table border=\"1\" class=\"dataframe\">\n",
       "  <thead>\n",
       "    <tr style=\"text-align: right;\">\n",
       "      <th></th>\n",
       "      <th>Alc</th>\n",
       "      <th>FD</th>\n",
       "      <th>Develop</th>\n",
       "    </tr>\n",
       "    <tr>\n",
       "      <th>Category</th>\n",
       "      <th></th>\n",
       "      <th></th>\n",
       "      <th></th>\n",
       "    </tr>\n",
       "  </thead>\n",
       "  <tbody>\n",
       "    <tr>\n",
       "      <th>Sales</th>\n",
       "      <td>389225</td>\n",
       "      <td>120947</td>\n",
       "      <td>24090</td>\n",
       "    </tr>\n",
       "  </tbody>\n",
       "</table>\n",
       "</div>"
      ],
      "text/plain": [
       "              Alc      FD  Develop\n",
       "Category                          \n",
       "Sales      389225  120947    24090"
      ]
     },
     "execution_count": 28,
     "metadata": {},
     "output_type": "execute_result"
    }
   ],
   "source": [
    "# サッポロHD株式会社の必要データを準備\n",
    "SAPPORO_data = pd.read_csv(\n",
    "    \"https://raw.githubusercontent.com/takumi-saka-mo/DEVIRSIFY_Analysis/main/data/SAPPORO_category.csv\",\n",
    "    encoding = \"UTF-8\"\n",
    "    ).set_index(\"Category \")\n",
    "\n",
    "\n",
    "SAPPORO_data"
   ]
  },
  {
   "cell_type": "code",
   "execution_count": 29,
   "metadata": {},
   "outputs": [
    {
     "data": {
      "image/png": "[encoded data removed]",
      "text/plain": [
       "<Figure size 700x600 with 1 Axes>"
      ]
     },
     "metadata": {},
     "output_type": "display_data"
    }
   ],
   "source": [
    "SAPPORO = SAPPORO_data.T.reset_index()\n",
    "SAPPORO.columns = [\"Category\", \"Sales\"]\n",
    "plt.figure(figsize=(7, 6))\n",
    "sns.barplot(data = SAPPORO, x = \"Category\", y = \"Sales\", hue = \"Category\",  palette = \"viridis\")\n",
    "plt.title(\"SAPPORO Revenue by Segments\")\n",
    "plt.ylabel(\"Revenue (*e6)\")\n",
    "plt.xlabel(\"Category\")\n",
    "plt.xticks(rotation=0)\n",
    "plt.tight_layout()\n",
    "plt.show()"
   ]
  },
  {
   "cell_type": "code",
   "execution_count": 30,
   "metadata": {},
   "outputs": [
    {
     "name": "stdout",
     "output_type": "stream",
     "text": [
      "企業価値: 773480533504.0\n",
      "超過価値 (EXVAL): 0.5296644238126303\n"
     ]
    }
   ],
   "source": [
    "# セグメント値の設定\n",
    "seg1_value = SAPPORO_data[\"Alc\"].iloc[0] * 1e6 # 単位 : 百万円\n",
    "seg2_value = SAPPORO_data[\"FD\"].iloc[0] * 1e6\n",
    "seg3_value = SAPPORO_data[\"Develop\"].iloc[0] * 1e6\n",
    "\n",
    "seg_list = [seg1_value, seg2_value, seg3_value]\n",
    "\n",
    "# 専業企業リスト\n",
    "\n",
    "Alc = [\n",
    "    \"2502.T\",  # アサヒグループHD\n",
    "    \"2503.T\",  # キリンHD\n",
    "    \"2587.T\",  # サントリー食品インターナショナル\n",
    "    \"2501.T\",  # サッポロHD\n",
    "    \"2531.T\",  #宝HD\n",
    "    \"2533.T\",  # オエノンHD\n",
    "]\n",
    "\n",
    "FD = [\n",
    "    \"2229.T\",  # カルビー\n",
    "    \"2593.T\",  # 伊藤園\n",
    "    \"2502.T\",  # アサヒグループHD\n",
    "    \"2503.T\",  # キリンHD\n",
    "    \"2587.T\",  # サントリー食品インターナショナル\n",
    "    \"2501.T\",  # サッポロHD\n",
    "    \"2579.T\",  # コカ・コーラボトラーズジャパンHD\n",
    "    \"2811.T\",  # カゴメ\n",
    "    \"2585.T\",  # ライフドリンクカンパニー\n",
    "    \"2590.T\",  # ダイドーグループHD\n",
    "    \"2594.T\",  # キーコーヒー\n",
    "    \"2002.T\",  # 日清製粉グループ本社\n",
    "    \"2802.T\",  # 味の素\n",
    "    \"2282.T\",  # 日本ハム\n",
    "    \"2269.T\",  # 明治ホールディングス\n",
    "    \"2284.T\",  # 伊藤ハム米久ホールディングス\n",
    "    \"2875.T\",  # 東洋水産\n",
    "    \"2871.T\",  # ニチレイ\n",
    "    \"2897.T\",  # 日清食品ホールディングス\n",
    "    \"2914.T\",  # 日本たばこ産業（JT）\n",
    "    \"2220.T\",  # 亀田製菓\n",
    "    \"2206.T\",  # 江崎グリコ\n",
    "    \"2201.T\",  # 森永製菓\n",
    "    \"2264.T\",  # 森永乳業\n",
    "    \"2810.T\",  # ハウス食品グループ本社\n",
    "]\n",
    "\n",
    "\n",
    "Develop = [\n",
    "    \"8802.T\",  # 三菱地所\n",
    "    \"8801.T\",  # 三井不動産\n",
    "    \"3289.T\",  # 東急不動産ホールディングス\n",
    "    \"8815.T\",  # 東急\n",
    "    \"8830.T\",  # 住友不動産\n",
    "    \"8804.T\",  # 東京建物\n",
    "    \"8876.T\",  # リログループ\n",
    "    \"3288.T\",  # オープンハウスグループ\n",
    "    \"8848.T\",  # レオパレス21\n",
    "    \"8818.T\",  # 京阪神ビルディング\n",
    "    \"8952.T\",  # ジャパンリアルエステイト投資法人\n",
    "    \"8920.T\",  # 東祥（ビジネスホテルなどの開発）\n",
    "    \"1878.T\",  # 大東建託（賃貸住宅開発大手）\n",
    "    \"8904.T\",  # サンヨーホームズ\n",
    "]\n",
    "\n",
    "\n",
    "\n",
    "\n",
    "specialized_tickers = [Alc, FD, Develop]\n",
    "\n",
    "# DiversifyApproach\n",
    "div_approach = DiversifyApproach(\n",
    "    ticker = \"2501.T\", # サッポロHD株式会社\n",
    "    specialized_tickers = specialized_tickers,\n",
    "    data = SAPPORO_data\n",
    ")\n",
    "\n",
    "# サッポロホールディングス株式会社の企業価値の計算\n",
    "value = div_approach.calculate_value()\n",
    "print(f\"企業価値: {value}\")\n",
    "\n",
    "# EXVAL（超過価値）の計算\n",
    "exval = div_approach.calculate_exval(seg_list)\n",
    "print(f\"超過価値 (EXVAL): {exval}\")"
   ]
  },
  {
   "cell_type": "markdown",
   "metadata": {},
   "source": [
    "## コカ・コーラボトラーズジャパン株式会社\n",
    "\n",
    "「飲料事業」の単一セグメント.\n",
    "**財務データ参照先**<br>\n",
    "https://www.ccbj-holdings.com/pdf/irinfo/208_1.pdf<br>\n",
    "(p.14)"
   ]
  },
  {
   "cell_type": "code",
   "execution_count": 31,
   "metadata": {},
   "outputs": [
    {
     "ename": "HTTPError",
     "evalue": "HTTP Error 404: Not Found",
     "output_type": "error",
     "traceback": [
      "\u001b[0;31m---------------------------------------------------------------------------\u001b[0m",
      "\u001b[0;31mHTTPError\u001b[0m                                 Traceback (most recent call last)",
      "Cell \u001b[0;32mIn[31], line 2\u001b[0m\n\u001b[1;32m      1\u001b[0m \u001b[38;5;66;03m# コカ・コーラボトラーズジャパン株式会社の必要データを準備\u001b[39;00m\n\u001b[0;32m----> 2\u001b[0m ccbj_data \u001b[38;5;241m=\u001b[39m \u001b[43mpd\u001b[49m\u001b[38;5;241;43m.\u001b[39;49m\u001b[43mread_csv\u001b[49m\u001b[43m(\u001b[49m\n\u001b[1;32m      3\u001b[0m \u001b[43m    \u001b[49m\u001b[38;5;124;43m\"\u001b[39;49m\u001b[38;5;124;43mhttps://raw.githubusercontent.com/takumi-saka-mo/DEVIRSIFY_Analysis/main/data/ccbj_category.csv\u001b[39;49m\u001b[38;5;124;43m\"\u001b[39;49m\u001b[43m,\u001b[49m\n\u001b[1;32m      4\u001b[0m \u001b[43m    \u001b[49m\u001b[43mencoding\u001b[49m\u001b[43m \u001b[49m\u001b[38;5;241;43m=\u001b[39;49m\u001b[43m \u001b[49m\u001b[38;5;124;43m\"\u001b[39;49m\u001b[38;5;124;43mUTF-8\u001b[39;49m\u001b[38;5;124;43m\"\u001b[39;49m\n\u001b[1;32m      5\u001b[0m \u001b[43m    \u001b[49m\u001b[43m)\u001b[49m\u001b[38;5;241m.\u001b[39mset_index(\u001b[38;5;124m\"\u001b[39m\u001b[38;5;124mCategory \u001b[39m\u001b[38;5;124m\"\u001b[39m)\n\u001b[1;32m      8\u001b[0m ccbj_data\n",
      "File \u001b[0;32m~/.pyenv/versions/3.12.1/lib/python3.12/site-packages/pandas/io/parsers/readers.py:1026\u001b[0m, in \u001b[0;36mread_csv\u001b[0;34m(filepath_or_buffer, sep, delimiter, header, names, index_col, usecols, dtype, engine, converters, true_values, false_values, skipinitialspace, skiprows, skipfooter, nrows, na_values, keep_default_na, na_filter, verbose, skip_blank_lines, parse_dates, infer_datetime_format, keep_date_col, date_parser, date_format, dayfirst, cache_dates, iterator, chunksize, compression, thousands, decimal, lineterminator, quotechar, quoting, doublequote, escapechar, comment, encoding, encoding_errors, dialect, on_bad_lines, delim_whitespace, low_memory, memory_map, float_precision, storage_options, dtype_backend)\u001b[0m\n\u001b[1;32m   1013\u001b[0m kwds_defaults \u001b[38;5;241m=\u001b[39m _refine_defaults_read(\n\u001b[1;32m   1014\u001b[0m     dialect,\n\u001b[1;32m   1015\u001b[0m     delimiter,\n\u001b[0;32m   (...)\u001b[0m\n\u001b[1;32m   1022\u001b[0m     dtype_backend\u001b[38;5;241m=\u001b[39mdtype_backend,\n\u001b[1;32m   1023\u001b[0m )\n\u001b[1;32m   1024\u001b[0m kwds\u001b[38;5;241m.\u001b[39mupdate(kwds_defaults)\n\u001b[0;32m-> 1026\u001b[0m \u001b[38;5;28;01mreturn\u001b[39;00m \u001b[43m_read\u001b[49m\u001b[43m(\u001b[49m\u001b[43mfilepath_or_buffer\u001b[49m\u001b[43m,\u001b[49m\u001b[43m \u001b[49m\u001b[43mkwds\u001b[49m\u001b[43m)\u001b[49m\n",
      "File \u001b[0;32m~/.pyenv/versions/3.12.1/lib/python3.12/site-packages/pandas/io/parsers/readers.py:620\u001b[0m, in \u001b[0;36m_read\u001b[0;34m(filepath_or_buffer, kwds)\u001b[0m\n\u001b[1;32m    617\u001b[0m _validate_names(kwds\u001b[38;5;241m.\u001b[39mget(\u001b[38;5;124m\"\u001b[39m\u001b[38;5;124mnames\u001b[39m\u001b[38;5;124m\"\u001b[39m, \u001b[38;5;28;01mNone\u001b[39;00m))\n\u001b[1;32m    619\u001b[0m \u001b[38;5;66;03m# Create the parser.\u001b[39;00m\n\u001b[0;32m--> 620\u001b[0m parser \u001b[38;5;241m=\u001b[39m \u001b[43mTextFileReader\u001b[49m\u001b[43m(\u001b[49m\u001b[43mfilepath_or_buffer\u001b[49m\u001b[43m,\u001b[49m\u001b[43m \u001b[49m\u001b[38;5;241;43m*\u001b[39;49m\u001b[38;5;241;43m*\u001b[39;49m\u001b[43mkwds\u001b[49m\u001b[43m)\u001b[49m\n\u001b[1;32m    622\u001b[0m \u001b[38;5;28;01mif\u001b[39;00m chunksize \u001b[38;5;129;01mor\u001b[39;00m iterator:\n\u001b[1;32m    623\u001b[0m     \u001b[38;5;28;01mreturn\u001b[39;00m parser\n",
      "File \u001b[0;32m~/.pyenv/versions/3.12.1/lib/python3.12/site-packages/pandas/io/parsers/readers.py:1620\u001b[0m, in \u001b[0;36mTextFileReader.__init__\u001b[0;34m(self, f, engine, **kwds)\u001b[0m\n\u001b[1;32m   1617\u001b[0m     \u001b[38;5;28mself\u001b[39m\u001b[38;5;241m.\u001b[39moptions[\u001b[38;5;124m\"\u001b[39m\u001b[38;5;124mhas_index_names\u001b[39m\u001b[38;5;124m\"\u001b[39m] \u001b[38;5;241m=\u001b[39m kwds[\u001b[38;5;124m\"\u001b[39m\u001b[38;5;124mhas_index_names\u001b[39m\u001b[38;5;124m\"\u001b[39m]\n\u001b[1;32m   1619\u001b[0m \u001b[38;5;28mself\u001b[39m\u001b[38;5;241m.\u001b[39mhandles: IOHandles \u001b[38;5;241m|\u001b[39m \u001b[38;5;28;01mNone\u001b[39;00m \u001b[38;5;241m=\u001b[39m \u001b[38;5;28;01mNone\u001b[39;00m\n\u001b[0;32m-> 1620\u001b[0m \u001b[38;5;28mself\u001b[39m\u001b[38;5;241m.\u001b[39m_engine \u001b[38;5;241m=\u001b[39m \u001b[38;5;28;43mself\u001b[39;49m\u001b[38;5;241;43m.\u001b[39;49m\u001b[43m_make_engine\u001b[49m\u001b[43m(\u001b[49m\u001b[43mf\u001b[49m\u001b[43m,\u001b[49m\u001b[43m \u001b[49m\u001b[38;5;28;43mself\u001b[39;49m\u001b[38;5;241;43m.\u001b[39;49m\u001b[43mengine\u001b[49m\u001b[43m)\u001b[49m\n",
      "File \u001b[0;32m~/.pyenv/versions/3.12.1/lib/python3.12/site-packages/pandas/io/parsers/readers.py:1880\u001b[0m, in \u001b[0;36mTextFileReader._make_engine\u001b[0;34m(self, f, engine)\u001b[0m\n\u001b[1;32m   1878\u001b[0m     \u001b[38;5;28;01mif\u001b[39;00m \u001b[38;5;124m\"\u001b[39m\u001b[38;5;124mb\u001b[39m\u001b[38;5;124m\"\u001b[39m \u001b[38;5;129;01mnot\u001b[39;00m \u001b[38;5;129;01min\u001b[39;00m mode:\n\u001b[1;32m   1879\u001b[0m         mode \u001b[38;5;241m+\u001b[39m\u001b[38;5;241m=\u001b[39m \u001b[38;5;124m\"\u001b[39m\u001b[38;5;124mb\u001b[39m\u001b[38;5;124m\"\u001b[39m\n\u001b[0;32m-> 1880\u001b[0m \u001b[38;5;28mself\u001b[39m\u001b[38;5;241m.\u001b[39mhandles \u001b[38;5;241m=\u001b[39m \u001b[43mget_handle\u001b[49m\u001b[43m(\u001b[49m\n\u001b[1;32m   1881\u001b[0m \u001b[43m    \u001b[49m\u001b[43mf\u001b[49m\u001b[43m,\u001b[49m\n\u001b[1;32m   1882\u001b[0m \u001b[43m    \u001b[49m\u001b[43mmode\u001b[49m\u001b[43m,\u001b[49m\n\u001b[1;32m   1883\u001b[0m \u001b[43m    \u001b[49m\u001b[43mencoding\u001b[49m\u001b[38;5;241;43m=\u001b[39;49m\u001b[38;5;28;43mself\u001b[39;49m\u001b[38;5;241;43m.\u001b[39;49m\u001b[43moptions\u001b[49m\u001b[38;5;241;43m.\u001b[39;49m\u001b[43mget\u001b[49m\u001b[43m(\u001b[49m\u001b[38;5;124;43m\"\u001b[39;49m\u001b[38;5;124;43mencoding\u001b[39;49m\u001b[38;5;124;43m\"\u001b[39;49m\u001b[43m,\u001b[49m\u001b[43m \u001b[49m\u001b[38;5;28;43;01mNone\u001b[39;49;00m\u001b[43m)\u001b[49m\u001b[43m,\u001b[49m\n\u001b[1;32m   1884\u001b[0m \u001b[43m    \u001b[49m\u001b[43mcompression\u001b[49m\u001b[38;5;241;43m=\u001b[39;49m\u001b[38;5;28;43mself\u001b[39;49m\u001b[38;5;241;43m.\u001b[39;49m\u001b[43moptions\u001b[49m\u001b[38;5;241;43m.\u001b[39;49m\u001b[43mget\u001b[49m\u001b[43m(\u001b[49m\u001b[38;5;124;43m\"\u001b[39;49m\u001b[38;5;124;43mcompression\u001b[39;49m\u001b[38;5;124;43m\"\u001b[39;49m\u001b[43m,\u001b[49m\u001b[43m \u001b[49m\u001b[38;5;28;43;01mNone\u001b[39;49;00m\u001b[43m)\u001b[49m\u001b[43m,\u001b[49m\n\u001b[1;32m   1885\u001b[0m \u001b[43m    \u001b[49m\u001b[43mmemory_map\u001b[49m\u001b[38;5;241;43m=\u001b[39;49m\u001b[38;5;28;43mself\u001b[39;49m\u001b[38;5;241;43m.\u001b[39;49m\u001b[43moptions\u001b[49m\u001b[38;5;241;43m.\u001b[39;49m\u001b[43mget\u001b[49m\u001b[43m(\u001b[49m\u001b[38;5;124;43m\"\u001b[39;49m\u001b[38;5;124;43mmemory_map\u001b[39;49m\u001b[38;5;124;43m\"\u001b[39;49m\u001b[43m,\u001b[49m\u001b[43m \u001b[49m\u001b[38;5;28;43;01mFalse\u001b[39;49;00m\u001b[43m)\u001b[49m\u001b[43m,\u001b[49m\n\u001b[1;32m   1886\u001b[0m \u001b[43m    \u001b[49m\u001b[43mis_text\u001b[49m\u001b[38;5;241;43m=\u001b[39;49m\u001b[43mis_text\u001b[49m\u001b[43m,\u001b[49m\n\u001b[1;32m   1887\u001b[0m \u001b[43m    \u001b[49m\u001b[43merrors\u001b[49m\u001b[38;5;241;43m=\u001b[39;49m\u001b[38;5;28;43mself\u001b[39;49m\u001b[38;5;241;43m.\u001b[39;49m\u001b[43moptions\u001b[49m\u001b[38;5;241;43m.\u001b[39;49m\u001b[43mget\u001b[49m\u001b[43m(\u001b[49m\u001b[38;5;124;43m\"\u001b[39;49m\u001b[38;5;124;43mencoding_errors\u001b[39;49m\u001b[38;5;124;43m\"\u001b[39;49m\u001b[43m,\u001b[49m\u001b[43m \u001b[49m\u001b[38;5;124;43m\"\u001b[39;49m\u001b[38;5;124;43mstrict\u001b[39;49m\u001b[38;5;124;43m\"\u001b[39;49m\u001b[43m)\u001b[49m\u001b[43m,\u001b[49m\n\u001b[1;32m   1888\u001b[0m \u001b[43m    \u001b[49m\u001b[43mstorage_options\u001b[49m\u001b[38;5;241;43m=\u001b[39;49m\u001b[38;5;28;43mself\u001b[39;49m\u001b[38;5;241;43m.\u001b[39;49m\u001b[43moptions\u001b[49m\u001b[38;5;241;43m.\u001b[39;49m\u001b[43mget\u001b[49m\u001b[43m(\u001b[49m\u001b[38;5;124;43m\"\u001b[39;49m\u001b[38;5;124;43mstorage_options\u001b[39;49m\u001b[38;5;124;43m\"\u001b[39;49m\u001b[43m,\u001b[49m\u001b[43m \u001b[49m\u001b[38;5;28;43;01mNone\u001b[39;49;00m\u001b[43m)\u001b[49m\u001b[43m,\u001b[49m\n\u001b[1;32m   1889\u001b[0m \u001b[43m\u001b[49m\u001b[43m)\u001b[49m\n\u001b[1;32m   1890\u001b[0m \u001b[38;5;28;01massert\u001b[39;00m \u001b[38;5;28mself\u001b[39m\u001b[38;5;241m.\u001b[39mhandles \u001b[38;5;129;01mis\u001b[39;00m \u001b[38;5;129;01mnot\u001b[39;00m \u001b[38;5;28;01mNone\u001b[39;00m\n\u001b[1;32m   1891\u001b[0m f \u001b[38;5;241m=\u001b[39m \u001b[38;5;28mself\u001b[39m\u001b[38;5;241m.\u001b[39mhandles\u001b[38;5;241m.\u001b[39mhandle\n",
      "File \u001b[0;32m~/.pyenv/versions/3.12.1/lib/python3.12/site-packages/pandas/io/common.py:728\u001b[0m, in \u001b[0;36mget_handle\u001b[0;34m(path_or_buf, mode, encoding, compression, memory_map, is_text, errors, storage_options)\u001b[0m\n\u001b[1;32m    725\u001b[0m     codecs\u001b[38;5;241m.\u001b[39mlookup_error(errors)\n\u001b[1;32m    727\u001b[0m \u001b[38;5;66;03m# open URLs\u001b[39;00m\n\u001b[0;32m--> 728\u001b[0m ioargs \u001b[38;5;241m=\u001b[39m \u001b[43m_get_filepath_or_buffer\u001b[49m\u001b[43m(\u001b[49m\n\u001b[1;32m    729\u001b[0m \u001b[43m    \u001b[49m\u001b[43mpath_or_buf\u001b[49m\u001b[43m,\u001b[49m\n\u001b[1;32m    730\u001b[0m \u001b[43m    \u001b[49m\u001b[43mencoding\u001b[49m\u001b[38;5;241;43m=\u001b[39;49m\u001b[43mencoding\u001b[49m\u001b[43m,\u001b[49m\n\u001b[1;32m    731\u001b[0m \u001b[43m    \u001b[49m\u001b[43mcompression\u001b[49m\u001b[38;5;241;43m=\u001b[39;49m\u001b[43mcompression\u001b[49m\u001b[43m,\u001b[49m\n\u001b[1;32m    732\u001b[0m \u001b[43m    \u001b[49m\u001b[43mmode\u001b[49m\u001b[38;5;241;43m=\u001b[39;49m\u001b[43mmode\u001b[49m\u001b[43m,\u001b[49m\n\u001b[1;32m    733\u001b[0m \u001b[43m    \u001b[49m\u001b[43mstorage_options\u001b[49m\u001b[38;5;241;43m=\u001b[39;49m\u001b[43mstorage_options\u001b[49m\u001b[43m,\u001b[49m\n\u001b[1;32m    734\u001b[0m \u001b[43m\u001b[49m\u001b[43m)\u001b[49m\n\u001b[1;32m    736\u001b[0m handle \u001b[38;5;241m=\u001b[39m ioargs\u001b[38;5;241m.\u001b[39mfilepath_or_buffer\n\u001b[1;32m    737\u001b[0m handles: \u001b[38;5;28mlist\u001b[39m[BaseBuffer]\n",
      "File \u001b[0;32m~/.pyenv/versions/3.12.1/lib/python3.12/site-packages/pandas/io/common.py:384\u001b[0m, in \u001b[0;36m_get_filepath_or_buffer\u001b[0;34m(filepath_or_buffer, encoding, compression, mode, storage_options)\u001b[0m\n\u001b[1;32m    382\u001b[0m \u001b[38;5;66;03m# assuming storage_options is to be interpreted as headers\u001b[39;00m\n\u001b[1;32m    383\u001b[0m req_info \u001b[38;5;241m=\u001b[39m urllib\u001b[38;5;241m.\u001b[39mrequest\u001b[38;5;241m.\u001b[39mRequest(filepath_or_buffer, headers\u001b[38;5;241m=\u001b[39mstorage_options)\n\u001b[0;32m--> 384\u001b[0m \u001b[38;5;28;01mwith\u001b[39;00m \u001b[43murlopen\u001b[49m\u001b[43m(\u001b[49m\u001b[43mreq_info\u001b[49m\u001b[43m)\u001b[49m \u001b[38;5;28;01mas\u001b[39;00m req:\n\u001b[1;32m    385\u001b[0m     content_encoding \u001b[38;5;241m=\u001b[39m req\u001b[38;5;241m.\u001b[39mheaders\u001b[38;5;241m.\u001b[39mget(\u001b[38;5;124m\"\u001b[39m\u001b[38;5;124mContent-Encoding\u001b[39m\u001b[38;5;124m\"\u001b[39m, \u001b[38;5;28;01mNone\u001b[39;00m)\n\u001b[1;32m    386\u001b[0m     \u001b[38;5;28;01mif\u001b[39;00m content_encoding \u001b[38;5;241m==\u001b[39m \u001b[38;5;124m\"\u001b[39m\u001b[38;5;124mgzip\u001b[39m\u001b[38;5;124m\"\u001b[39m:\n\u001b[1;32m    387\u001b[0m         \u001b[38;5;66;03m# Override compression based on Content-Encoding header\u001b[39;00m\n",
      "File \u001b[0;32m~/.pyenv/versions/3.12.1/lib/python3.12/site-packages/pandas/io/common.py:289\u001b[0m, in \u001b[0;36murlopen\u001b[0;34m(*args, **kwargs)\u001b[0m\n\u001b[1;32m    283\u001b[0m \u001b[38;5;250m\u001b[39m\u001b[38;5;124;03m\"\"\"\u001b[39;00m\n\u001b[1;32m    284\u001b[0m \u001b[38;5;124;03mLazy-import wrapper for stdlib urlopen, as that imports a big chunk of\u001b[39;00m\n\u001b[1;32m    285\u001b[0m \u001b[38;5;124;03mthe stdlib.\u001b[39;00m\n\u001b[1;32m    286\u001b[0m \u001b[38;5;124;03m\"\"\"\u001b[39;00m\n\u001b[1;32m    287\u001b[0m \u001b[38;5;28;01mimport\u001b[39;00m \u001b[38;5;21;01murllib\u001b[39;00m\u001b[38;5;21;01m.\u001b[39;00m\u001b[38;5;21;01mrequest\u001b[39;00m\n\u001b[0;32m--> 289\u001b[0m \u001b[38;5;28;01mreturn\u001b[39;00m \u001b[43murllib\u001b[49m\u001b[38;5;241;43m.\u001b[39;49m\u001b[43mrequest\u001b[49m\u001b[38;5;241;43m.\u001b[39;49m\u001b[43murlopen\u001b[49m\u001b[43m(\u001b[49m\u001b[38;5;241;43m*\u001b[39;49m\u001b[43margs\u001b[49m\u001b[43m,\u001b[49m\u001b[43m \u001b[49m\u001b[38;5;241;43m*\u001b[39;49m\u001b[38;5;241;43m*\u001b[39;49m\u001b[43mkwargs\u001b[49m\u001b[43m)\u001b[49m\n",
      "File \u001b[0;32m~/.pyenv/versions/3.12.1/lib/python3.12/urllib/request.py:215\u001b[0m, in \u001b[0;36murlopen\u001b[0;34m(url, data, timeout, cafile, capath, cadefault, context)\u001b[0m\n\u001b[1;32m    213\u001b[0m \u001b[38;5;28;01melse\u001b[39;00m:\n\u001b[1;32m    214\u001b[0m     opener \u001b[38;5;241m=\u001b[39m _opener\n\u001b[0;32m--> 215\u001b[0m \u001b[38;5;28;01mreturn\u001b[39;00m \u001b[43mopener\u001b[49m\u001b[38;5;241;43m.\u001b[39;49m\u001b[43mopen\u001b[49m\u001b[43m(\u001b[49m\u001b[43murl\u001b[49m\u001b[43m,\u001b[49m\u001b[43m \u001b[49m\u001b[43mdata\u001b[49m\u001b[43m,\u001b[49m\u001b[43m \u001b[49m\u001b[43mtimeout\u001b[49m\u001b[43m)\u001b[49m\n",
      "File \u001b[0;32m~/.pyenv/versions/3.12.1/lib/python3.12/urllib/request.py:521\u001b[0m, in \u001b[0;36mOpenerDirector.open\u001b[0;34m(self, fullurl, data, timeout)\u001b[0m\n\u001b[1;32m    519\u001b[0m \u001b[38;5;28;01mfor\u001b[39;00m processor \u001b[38;5;129;01min\u001b[39;00m \u001b[38;5;28mself\u001b[39m\u001b[38;5;241m.\u001b[39mprocess_response\u001b[38;5;241m.\u001b[39mget(protocol, []):\n\u001b[1;32m    520\u001b[0m     meth \u001b[38;5;241m=\u001b[39m \u001b[38;5;28mgetattr\u001b[39m(processor, meth_name)\n\u001b[0;32m--> 521\u001b[0m     response \u001b[38;5;241m=\u001b[39m \u001b[43mmeth\u001b[49m\u001b[43m(\u001b[49m\u001b[43mreq\u001b[49m\u001b[43m,\u001b[49m\u001b[43m \u001b[49m\u001b[43mresponse\u001b[49m\u001b[43m)\u001b[49m\n\u001b[1;32m    523\u001b[0m \u001b[38;5;28;01mreturn\u001b[39;00m response\n",
      "File \u001b[0;32m~/.pyenv/versions/3.12.1/lib/python3.12/urllib/request.py:630\u001b[0m, in \u001b[0;36mHTTPErrorProcessor.http_response\u001b[0;34m(self, request, response)\u001b[0m\n\u001b[1;32m    627\u001b[0m \u001b[38;5;66;03m# According to RFC 2616, \"2xx\" code indicates that the client's\u001b[39;00m\n\u001b[1;32m    628\u001b[0m \u001b[38;5;66;03m# request was successfully received, understood, and accepted.\u001b[39;00m\n\u001b[1;32m    629\u001b[0m \u001b[38;5;28;01mif\u001b[39;00m \u001b[38;5;129;01mnot\u001b[39;00m (\u001b[38;5;241m200\u001b[39m \u001b[38;5;241m<\u001b[39m\u001b[38;5;241m=\u001b[39m code \u001b[38;5;241m<\u001b[39m \u001b[38;5;241m300\u001b[39m):\n\u001b[0;32m--> 630\u001b[0m     response \u001b[38;5;241m=\u001b[39m \u001b[38;5;28;43mself\u001b[39;49m\u001b[38;5;241;43m.\u001b[39;49m\u001b[43mparent\u001b[49m\u001b[38;5;241;43m.\u001b[39;49m\u001b[43merror\u001b[49m\u001b[43m(\u001b[49m\n\u001b[1;32m    631\u001b[0m \u001b[43m        \u001b[49m\u001b[38;5;124;43m'\u001b[39;49m\u001b[38;5;124;43mhttp\u001b[39;49m\u001b[38;5;124;43m'\u001b[39;49m\u001b[43m,\u001b[49m\u001b[43m \u001b[49m\u001b[43mrequest\u001b[49m\u001b[43m,\u001b[49m\u001b[43m \u001b[49m\u001b[43mresponse\u001b[49m\u001b[43m,\u001b[49m\u001b[43m \u001b[49m\u001b[43mcode\u001b[49m\u001b[43m,\u001b[49m\u001b[43m \u001b[49m\u001b[43mmsg\u001b[49m\u001b[43m,\u001b[49m\u001b[43m \u001b[49m\u001b[43mhdrs\u001b[49m\u001b[43m)\u001b[49m\n\u001b[1;32m    633\u001b[0m \u001b[38;5;28;01mreturn\u001b[39;00m response\n",
      "File \u001b[0;32m~/.pyenv/versions/3.12.1/lib/python3.12/urllib/request.py:559\u001b[0m, in \u001b[0;36mOpenerDirector.error\u001b[0;34m(self, proto, *args)\u001b[0m\n\u001b[1;32m    557\u001b[0m \u001b[38;5;28;01mif\u001b[39;00m http_err:\n\u001b[1;32m    558\u001b[0m     args \u001b[38;5;241m=\u001b[39m (\u001b[38;5;28mdict\u001b[39m, \u001b[38;5;124m'\u001b[39m\u001b[38;5;124mdefault\u001b[39m\u001b[38;5;124m'\u001b[39m, \u001b[38;5;124m'\u001b[39m\u001b[38;5;124mhttp_error_default\u001b[39m\u001b[38;5;124m'\u001b[39m) \u001b[38;5;241m+\u001b[39m orig_args\n\u001b[0;32m--> 559\u001b[0m     \u001b[38;5;28;01mreturn\u001b[39;00m \u001b[38;5;28;43mself\u001b[39;49m\u001b[38;5;241;43m.\u001b[39;49m\u001b[43m_call_chain\u001b[49m\u001b[43m(\u001b[49m\u001b[38;5;241;43m*\u001b[39;49m\u001b[43margs\u001b[49m\u001b[43m)\u001b[49m\n",
      "File \u001b[0;32m~/.pyenv/versions/3.12.1/lib/python3.12/urllib/request.py:492\u001b[0m, in \u001b[0;36mOpenerDirector._call_chain\u001b[0;34m(self, chain, kind, meth_name, *args)\u001b[0m\n\u001b[1;32m    490\u001b[0m \u001b[38;5;28;01mfor\u001b[39;00m handler \u001b[38;5;129;01min\u001b[39;00m handlers:\n\u001b[1;32m    491\u001b[0m     func \u001b[38;5;241m=\u001b[39m \u001b[38;5;28mgetattr\u001b[39m(handler, meth_name)\n\u001b[0;32m--> 492\u001b[0m     result \u001b[38;5;241m=\u001b[39m \u001b[43mfunc\u001b[49m\u001b[43m(\u001b[49m\u001b[38;5;241;43m*\u001b[39;49m\u001b[43margs\u001b[49m\u001b[43m)\u001b[49m\n\u001b[1;32m    493\u001b[0m     \u001b[38;5;28;01mif\u001b[39;00m result \u001b[38;5;129;01mis\u001b[39;00m \u001b[38;5;129;01mnot\u001b[39;00m \u001b[38;5;28;01mNone\u001b[39;00m:\n\u001b[1;32m    494\u001b[0m         \u001b[38;5;28;01mreturn\u001b[39;00m result\n",
      "File \u001b[0;32m~/.pyenv/versions/3.12.1/lib/python3.12/urllib/request.py:639\u001b[0m, in \u001b[0;36mHTTPDefaultErrorHandler.http_error_default\u001b[0;34m(self, req, fp, code, msg, hdrs)\u001b[0m\n\u001b[1;32m    638\u001b[0m \u001b[38;5;28;01mdef\u001b[39;00m \u001b[38;5;21mhttp_error_default\u001b[39m(\u001b[38;5;28mself\u001b[39m, req, fp, code, msg, hdrs):\n\u001b[0;32m--> 639\u001b[0m     \u001b[38;5;28;01mraise\u001b[39;00m HTTPError(req\u001b[38;5;241m.\u001b[39mfull_url, code, msg, hdrs, fp)\n",
      "\u001b[0;31mHTTPError\u001b[0m: HTTP Error 404: Not Found"
     ]
    }
   ],
   "source": [
    "# コカ・コーラボトラーズジャパン株式会社の必要データを準備\n",
    "ccbj_data = pd.read_csv(\n",
    "    \"https://raw.githubusercontent.com/takumi-saka-mo/DEVIRSIFY_Analysis/main/data/ccbj_category.csv\",\n",
    "    encoding = \"UTF-8\"\n",
    "    ).set_index(\"Category \")\n",
    "\n",
    "\n",
    "ccbj_data"
   ]
  },
  {
   "cell_type": "code",
   "execution_count": 15,
   "metadata": {},
   "outputs": [
    {
     "name": "stdout",
     "output_type": "stream",
     "text": [
      "{'address1': 'One Apple Park Way', 'city': 'Cupertino', 'state': 'CA', 'zip': '95014', 'country': 'United States', 'phone': '(408) 996-1010', 'website': 'https://www.apple.com', 'industry': 'Consumer Electronics', 'industryKey': 'consumer-electronics', 'industryDisp': 'Consumer Electronics', 'sector': 'Technology', 'sectorKey': 'technology', 'sectorDisp': 'Technology', 'longBusinessSummary': 'Apple Inc. designs, manufactures, and markets smartphones, personal computers, tablets, wearables, and accessories worldwide. The company offers iPhone, a line of smartphones; Mac, a line of personal computers; iPad, a line of multi-purpose tablets; and wearables, home, and accessories comprising AirPods, Apple TV, Apple Watch, Beats products, and HomePod. It also provides AppleCare support and cloud services; and operates various platforms, including the App Store that allow customers to discover and download applications and digital content, such as books, music, video, games, and podcasts, as well as advertising services include third-party licensing arrangements and its own advertising platforms. In addition, the company offers various subscription-based services, such as Apple Arcade, a game subscription service; Apple Fitness+, a personalized fitness service; Apple Music, which offers users a curated listening experience with on-demand radio stations; Apple News+, a subscription news and magazine service; Apple TV+, which offers exclusive original content; Apple Card, a co-branded credit card; and Apple Pay, a cashless payment service, as well as licenses its intellectual property. The company serves consumers, and small and mid-sized businesses; and the education, enterprise, and government markets. It distributes third-party applications for its products through the App Store. The company also sells its products through its retail and online stores, and direct sales force; and third-party cellular network carriers, wholesalers, retailers, and resellers. Apple Inc. was founded in 1976 and is headquartered in Cupertino, California.', 'fullTimeEmployees': 164000, 'companyOfficers': [{'maxAge': 1, 'name': 'Mr. Timothy D. Cook', 'age': 63, 'title': 'CEO & Director', 'yearBorn': 1961, 'fiscalYear': 2023, 'totalPay': 16239562, 'exercisedValue': 0, 'unexercisedValue': 0}, {'maxAge': 1, 'name': 'Mr. Jeffrey E. Williams', 'age': 60, 'title': 'Chief Operating Officer', 'yearBorn': 1964, 'fiscalYear': 2023, 'totalPay': 4637585, 'exercisedValue': 0, 'unexercisedValue': 0}, {'maxAge': 1, 'name': 'Ms. Katherine L. Adams', 'age': 60, 'title': 'Senior VP, General Counsel & Secretary', 'yearBorn': 1964, 'fiscalYear': 2023, 'totalPay': 4618064, 'exercisedValue': 0, 'unexercisedValue': 0}, {'maxAge': 1, 'name': \"Ms. Deirdre  O'Brien\", 'age': 57, 'title': 'Chief People Officer & Senior VP of Retail', 'yearBorn': 1967, 'fiscalYear': 2023, 'totalPay': 4613369, 'exercisedValue': 0, 'unexercisedValue': 0}, {'maxAge': 1, 'name': 'Mr. Kevan  Parekh', 'age': 52, 'title': 'Senior VP & CFO', 'yearBorn': 1972, 'fiscalYear': 2023, 'exercisedValue': 0, 'unexercisedValue': 0}, {'maxAge': 1, 'name': 'Mr. Chris  Kondo', 'title': 'Senior Director of Corporate Accounting', 'fiscalYear': 2023, 'exercisedValue': 0, 'unexercisedValue': 0}, {'maxAge': 1, 'name': 'Suhasini  Chandramouli', 'title': 'Director of Investor Relations', 'fiscalYear': 2023, 'exercisedValue': 0, 'unexercisedValue': 0}, {'maxAge': 1, 'name': 'Mr. Greg  Joswiak', 'title': 'Senior Vice President of Worldwide Marketing', 'fiscalYear': 2023, 'exercisedValue': 0, 'unexercisedValue': 0}, {'maxAge': 1, 'name': 'Mr. Adrian  Perica', 'age': 50, 'title': 'Head of Corporate Development', 'yearBorn': 1974, 'fiscalYear': 2023, 'exercisedValue': 0, 'unexercisedValue': 0}, {'maxAge': 1, 'name': 'Mr. Michael  Fenger', 'title': 'VP of Worldwide Sales', 'fiscalYear': 2023, 'exercisedValue': 0, 'unexercisedValue': 0}], 'auditRisk': 3, 'boardRisk': 1, 'compensationRisk': 3, 'shareHolderRightsRisk': 1, 'overallRisk': 1, 'governanceEpochDate': 1735689600, 'compensationAsOfEpochDate': 1703980800, 'irWebsite': 'http://investor.apple.com/', 'maxAge': 86400, 'priceHint': 2, 'previousClose': 228.26, 'open': 232.115, 'dayLow': 228.48, 'dayHigh': 232.29, 'regularMarketPreviousClose': 228.26, 'regularMarketOpen': 232.115, 'regularMarketDayLow': 228.48, 'regularMarketDayHigh': 232.29, 'dividendRate': 1.0, 'dividendYield': 0.0043, 'exDividendDate': 1731024000, 'payoutRatio': 0.1612, 'fiveYearAvgDividendYield': 0.61, 'beta': 1.24, 'trailingPE': 37.88797, 'forwardPE': 27.693354, 'volume': 67440511, 'regularMarketVolume': 67440511, 'averageVolume': 45900529, 'averageVolume10days': 49438970, 'averageDailyVolume10Day': 49438970, 'bid': 220.21, 'ask': 230.16, 'bidSize': 100, 'askSize': 100, 'marketCap': 3458416246784, 'fiftyTwoWeekLow': 164.08, 'fiftyTwoWeekHigh': 260.1, 'priceToSalesTrailing12Months': 8.844263, 'fiftyDayAverage': 239.2966, 'twoHundredDayAverage': 217.01566, 'trailingAnnualDividendRate': 0.98, 'trailingAnnualDividendYield': 0.00429335, 'currency': 'USD', 'enterpriseValue': 3530225090560, 'profitMargins': 0.23971, 'floatShares': 15091184209, 'sharesOutstanding': 15037899776, 'sharesShort': 157008120, 'sharesShortPriorMonth': 154104746, 'sharesShortPreviousMonthDate': 1732838400, 'dateShortInterest': 1735603200, 'sharesPercentSharesOut': 0.0104, 'heldPercentInsiders': 0.02066, 'heldPercentInstitutions': 0.62244, 'shortRatio': 3.37, 'shortPercentOfFloat': 0.0104, 'impliedSharesOutstanding': 15671000064, 'bookValue': 3.767, 'priceToBook': 61.051235, 'lastFiscalYearEnd': 1727481600, 'nextFiscalYearEnd': 1759017600, 'mostRecentQuarter': 1727481600, 'earningsQuarterlyGrowth': -0.358, 'netIncomeToCommon': 93736001536, 'trailingEps': 6.07, 'forwardEps': 8.31, 'lastSplitFactor': '4:1', 'lastSplitDate': 1598832000, 'enterpriseToRevenue': 9.028, 'enterpriseToEbitda': 26.216, '52WeekChange': 0.18613648, 'SandP52WeekChange': 0.23631513, 'lastDividendValue': 0.25, 'lastDividendDate': 1731024000, 'exchange': 'NMS', 'quoteType': 'EQUITY', 'symbol': 'AAPL', 'underlyingSymbol': 'AAPL', 'shortName': 'Apple Inc.', 'longName': 'Apple Inc.', 'firstTradeDateEpochUtc': 345479400, 'timeZoneFullName': 'America/New_York', 'timeZoneShortName': 'EST', 'uuid': '8b10e4ae-9eeb-3684-921a-9ab27e4d87aa', 'messageBoardId': 'finmb_24937', 'gmtOffSetMilliseconds': -18000000, 'currentPrice': 229.98, 'targetHighPrice': 325.0, 'targetLowPrice': 184.0, 'targetMeanPrice': 247.6305, 'targetMedianPrice': 250.0, 'recommendationMean': 1.91304, 'recommendationKey': 'buy', 'numberOfAnalystOpinions': 41, 'totalCash': 65171001344, 'totalCashPerShare': 4.311, 'ebitda': 134660997120, 'totalDebt': 119058997248, 'quickRatio': 0.745, 'currentRatio': 0.867, 'totalRevenue': 391034994688, 'debtToEquity': 209.059, 'revenuePerShare': 25.485, 'returnOnAssets': 0.21464, 'returnOnEquity': 1.5741299, 'grossProfits': 180682997760, 'freeCashflow': 110846001152, 'operatingCashflow': 118254002176, 'earningsGrowth': -0.341, 'revenueGrowth': 0.061, 'grossMargins': 0.46206, 'ebitdaMargins': 0.34437, 'operatingMargins': 0.31171, 'financialCurrency': 'USD', 'trailingPegRatio': 2.0958}\n"
     ]
    }
   ],
   "source": [
    "import yfinance as yf\n",
    "print(yf.Ticker(\"AAPL\").info)"
   ]
  },
  {
   "cell_type": "code",
   "execution_count": null,
   "metadata": {},
   "outputs": [],
   "source": []
  }
 ],
 "metadata": {
  "kernelspec": {
   "display_name": "3.12.1",
   "language": "python",
   "name": "python3"
  },
  "language_info": {
   "codemirror_mode": {
    "name": "ipython",
    "version": 3
   },
   "file_extension": ".py",
   "mimetype": "text/x-python",
   "name": "python",
   "nbconvert_exporter": "python",
   "pygments_lexer": "ipython3",
   "version": "3.12.1"
  }
 },
 "nbformat": 4,
 "nbformat_minor": 2
}
