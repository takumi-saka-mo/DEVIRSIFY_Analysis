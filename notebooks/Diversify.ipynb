{
 "cells": [
  {
   "cell_type": "code",
   "execution_count": 1,
   "metadata": {},
   "outputs": [
    {
     "name": "stdout",
     "output_type": "stream",
     "text": [
      "企業価値: 6617096999744.0\n",
      "超過価値 (EXVAL): 0.5776065655571677\n"
     ]
    }
   ],
   "source": [
    "import sys\n",
    "import os\n",
    "\n",
    "# プロジェクトルートをモジュール検索パスに追加\n",
    "project_root = os.path.abspath(os.path.join(os.getcwd(), \"..\"))\n",
    "sys.path.append(project_root)\n",
    "from src.calculate_EXVAL import DiversifyApproach\n",
    "import pandas as pd\n",
    "\n",
    "\n",
    "## 楽天\n",
    "\n",
    "\n",
    "file = \"../data/RAKUTEN.csv\"\n",
    "data = pd.read_csv(file, encoding = \"UTF-8\").set_index(\"Category\")\n",
    "\n",
    "\n",
    "# セグメント値の設定\n",
    "seg1_value = data[\"Services\"].iloc[0] * 1e6 # 単位百万円\n",
    "seg2_value = data[\"FinTech\"].iloc[0] * 1e6\n",
    "seg3_value = data[\"Mobile\"].iloc[0] * 1e6\n",
    "seg_list = [seg1_value, seg2_value]\n",
    "# 専門企業リスト\n",
    "services_companies = [\"4686.T\", \"3092.T\", \"2371.T\", \"4385.T\", \"3926.T\"] # LINEヤフー, ZOZO, カカクコム, メルカリ, オープンドア\n",
    "FinTech_companies = [\"4478.T\", \"7342.T\", \"4477.T\", \"7177.T\", \"3994.T\"] # freee, ウェルスナビ, BASE, GMOフィナンシャルHD, マネーフォワード\n",
    "mobile_companies = [\"9432.T\", \"9434.T\", \"9433.T\", \"4390.T\", \"9436.T\"] # NTT, ソフトバンク, KDDI, IPS, 沖縄セルラー\n",
    "\n",
    "specialized_tickers = [services_companies, FinTech_companies, mobile_companies]\n",
    "\n",
    "# クラスインスタンス作成\n",
    "div_approach = DiversifyApproach(\n",
    "    ticker=\"4755.T\", # 楽天\n",
    "    specialized_tickers=specialized_tickers,\n",
    "    data=data\n",
    ")\n",
    "\n",
    "# 企業価値の計算\n",
    "value = div_approach.calculate_value()\n",
    "print(f\"企業価値: {value}\")\n",
    "\n",
    "# EXVAL（超過価値）の計算\n",
    "exval = div_approach.calculate_exval(seg_list)\n",
    "print(f\"超過価値 (EXVAL): {exval}\")"
   ]
  },
  {
   "cell_type": "code",
   "execution_count": null,
   "metadata": {},
   "outputs": [],
   "source": []
  }
 ],
 "metadata": {
  "kernelspec": {
   "display_name": "3.12.1",
   "language": "python",
   "name": "python3"
  },
  "language_info": {
   "codemirror_mode": {
    "name": "ipython",
    "version": 3
   },
   "file_extension": ".py",
   "mimetype": "text/x-python",
   "name": "python",
   "nbconvert_exporter": "python",
   "pygments_lexer": "ipython3",
   "version": "3.12.1"
  }
 },
 "nbformat": 4,
 "nbformat_minor": 2
}
