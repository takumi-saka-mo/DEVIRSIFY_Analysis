{
 "cells": [
  {
   "cell_type": "code",
   "execution_count": 1,
   "metadata": {},
   "outputs": [],
   "source": [
    "import pandas as pandas\n"
   ]
  },
  {
   "cell_type": "code",
   "execution_count": null,
   "metadata": {},
   "outputs": [],
   "source": [
    "# セグメント値の設定\n",
    "seg1_value = data[\"Services\"].iloc[0] * 1e6 # 単位百万円\n",
    "seg2_value = data[\"Devices\"].iloc[0] * 1e6\n",
    "seg_list = [seg1_value, seg2_value]\n",
    "\n",
    "# 専門企業リスト\n",
    "services_companies = [\"NFLX\", \"DBX\", \"SPOT\"]\n",
    "devices_companies = [\"HPQ\", \"DELL\", \"LNVGY\"]\n",
    "specialized_tickers = [services_companies, devices_companies]\n",
    "\n",
    "# クラスインスタンス作成\n",
    "div_approach = DiversifyApproach(\n",
    "    ticker = \"AAPL\", # AAPL\n",
    "    specialized_tickers = specialized_tickers,\n",
    "    data = data\n",
    ")\n",
    "\n",
    "# 企業価値の計算\n",
    "value = div_approach.calculate_value()\n",
    "print(f\"企業価値: {value}\")\n",
    "\n",
    "# EXVAL（超過価値）の計算\n",
    "exval = div_approach.calculate_exval(seg_list)\n",
    "print(f\"超過価値 (EXVAL): {exval}\")"
   ]
  }
 ],
 "metadata": {
  "kernelspec": {
   "display_name": "3.12.1",
   "language": "python",
   "name": "python3"
  },
  "language_info": {
   "codemirror_mode": {
    "name": "ipython",
    "version": 3
   },
   "file_extension": ".py",
   "mimetype": "text/x-python",
   "name": "python",
   "nbconvert_exporter": "python",
   "pygments_lexer": "ipython3",
   "version": "3.12.1"
  }
 },
 "nbformat": 4,
 "nbformat_minor": 2
}
