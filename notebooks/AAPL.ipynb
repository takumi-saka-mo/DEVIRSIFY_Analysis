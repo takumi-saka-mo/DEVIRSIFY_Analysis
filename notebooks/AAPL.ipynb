{
 "cells": [
  {
   "cell_type": "markdown",
   "metadata": {},
   "source": [
    "[![Open In Colab](https://colab.research.google.com/assets/colab-badge.svg)](https://colab.research.google.com/github/takumi-saka-mo/DEVIRSIFY_Analysis/blob/main/notebooks/AAPL.ipynb)\n",
    "\n",
    "\n",
    "Apple社の財務データを用いて, 企業価値及び超過価値の計算をする.\n",
    "\n",
    "さらに,セグメント売上高別にその事業をメインとして経営する企業と比較した仮想的な価値も導出する.\n",
    "\n",
    "\n",
    "### Apple社のセグメントデータ\n",
    "[AAPL_category.csv](https://github.com/takumi-saka-mo/DEVIRSIFY_Analysis/blob/main/data/AAPL_category.csv)\n",
    "\n",
    "### 参照\n",
    "https://www.apple.com/jp/newsroom/2024/10/apple-reports-fourth-quarter-results/\n",
    "\n",
    "Apple社(証券コード : AAPL) ではiOSを搭載したモバイル端末(iPhone、iPad)などのデバイス販売をし, iCloudやApple Musicといったサブスクリプションサービスも提供されてる.\n",
    "\n",
    "\n",
    "\n",
    "\n",
    "\n"
   ]
  },
  {
   "cell_type": "code",
   "execution_count": null,
   "metadata": {},
   "outputs": [],
   "source": [
    "# calculate_EXVAL ディレクトリに格納されているクラスをインストール\n",
    "! pip install git+https://github.com/takumi-saka-mo/DEVIRSIFY_Analysis.git\n",
    "from calculate_EXVAL import DiversifyApproach"
   ]
  },
  {
   "cell_type": "code",
   "execution_count": null,
   "metadata": {},
   "outputs": [],
   "source": [
    "import pandas as pd\n",
    "import matplotlib.pyplot as plt\n",
    "import seaborn as sns"
   ]
  },
  {
   "cell_type": "code",
   "execution_count": 7,
   "metadata": {},
   "outputs": [
    {
     "data": {
      "text/html": [
       "<div>\n",
       "<style scoped>\n",
       "    .dataframe tbody tr th:only-of-type {\n",
       "        vertical-align: middle;\n",
       "    }\n",
       "\n",
       "    .dataframe tbody tr th {\n",
       "        vertical-align: top;\n",
       "    }\n",
       "\n",
       "    .dataframe thead th {\n",
       "        text-align: right;\n",
       "    }\n",
       "</style>\n",
       "<table border=\"1\" class=\"dataframe\">\n",
       "  <thead>\n",
       "    <tr style=\"text-align: right;\">\n",
       "      <th></th>\n",
       "      <th>Services</th>\n",
       "      <th>Devices</th>\n",
       "    </tr>\n",
       "    <tr>\n",
       "      <th>Category</th>\n",
       "      <th></th>\n",
       "      <th></th>\n",
       "    </tr>\n",
       "  </thead>\n",
       "  <tbody>\n",
       "    <tr>\n",
       "      <th>Sales</th>\n",
       "      <td>96169</td>\n",
       "      <td>294866</td>\n",
       "    </tr>\n",
       "  </tbody>\n",
       "</table>\n",
       "</div>"
      ],
      "text/plain": [
       "          Services  Devices\n",
       "Category                   \n",
       "Sales        96169   294866"
      ]
     },
     "execution_count": 7,
     "metadata": {},
     "output_type": "execute_result"
    }
   ],
   "source": [
    "url = \"https://raw.githubusercontent.com/takumi-saka-mo/DEVIRSIFY_Analysis/main/data/AAPL_category.csv\"\n",
    "data = pd.read_csv(url, encoding = \"UTF-8\").set_index(\"Category\")\n",
    "\n",
    "\n",
    "data[\"Devices\"] = data[\"iPhone\"] + data[\"Mac\"] + data[\"iPad\"] + data[\"Wearables, Home and Accessories\"]\n",
    "data = data.drop(columns = [\"iPhone\", \"Mac\",\"iPad\",\"Wearables, Home and Accessories\"])\n",
    "data"
   ]
  },
  {
   "cell_type": "code",
   "execution_count": 8,
   "metadata": {},
   "outputs": [
    {
     "data": {
      "image/png": "[encoded data removed]",
      "text/plain": [
       "<Figure size 700x600 with 1 Axes>"
      ]
     },
     "metadata": {},
     "output_type": "display_data"
    }
   ],
   "source": [
    "df = data.T.reset_index()\n",
    "df.columns = [\"Category\", \"Sales\"]\n",
    "plt.figure(figsize=(7, 6))\n",
    "sns.barplot(data = df, x = \"Category\", y = \"Sales\", hue = \"Category\",  palette = \"viridis\")\n",
    "plt.title(\"Apple Revenue by Segments\")\n",
    "plt.ylabel(\"Revenue (*e6)\")\n",
    "plt.xlabel(\"Category\")\n",
    "plt.xticks(rotation=0)\n",
    "plt.tight_layout()\n",
    "plt.show()"
   ]
  },
  {
   "cell_type": "code",
   "execution_count": 9,
   "metadata": {},
   "outputs": [
    {
     "name": "stdout",
     "output_type": "stream",
     "text": [
      "企業価値: 3779919440704.0\n",
      "超過価値 (EXVAL): 1.4030389647438637\n"
     ]
    }
   ],
   "source": [
    "# セグメント値の設定\n",
    "seg1_value = data[\"Services\"].iloc[0] * 1e6 # 単位 : 百万円\n",
    "seg2_value = data[\"Devices\"].iloc[0] * 1e6\n",
    "seg_list = [seg1_value, seg2_value]\n",
    "\n",
    "# 専業企業リスト\n",
    "services_companies = [\"NFLX\", \"DBX\", \"SPOT\"]\n",
    "devices_companies = [\"HPQ\", \"DELL\", \"LNVGY\"]\n",
    "specialized_tickers = [services_companies, devices_companies]\n",
    "\n",
    "# DiversifyApproach\n",
    "div_approach = DiversifyApproach(\n",
    "    ticker = \"AAPL\", # Apple\n",
    "    specialized_tickers = specialized_tickers,\n",
    "    data = data\n",
    ")\n",
    "\n",
    "# Appleの企業価値の計算\n",
    "value = div_approach.calculate_value()\n",
    "print(f\"企業価値: {value}\")\n",
    "\n",
    "# EXVAL（超過価値）の計算\n",
    "exval = div_approach.calculate_exval(seg_list)\n",
    "print(f\"超過価値 (EXVAL): {exval}\")"
   ]
  }
 ],
 "metadata": {
  "kernelspec": {
   "display_name": "3.12.1",
   "language": "python",
   "name": "python3"
  },
  "language_info": {
   "codemirror_mode": {
    "name": "ipython",
    "version": 3
   },
   "file_extension": ".py",
   "mimetype": "text/x-python",
   "name": "python",
   "nbconvert_exporter": "python",
   "pygments_lexer": "ipython3",
   "version": "3.12.1"
  }
 },
 "nbformat": 4,
 "nbformat_minor": 2
}
